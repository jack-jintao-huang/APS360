{
  "cells": [
    {
      "cell_type": "markdown",
      "metadata": {
        "id": "_bphECiUa9zw"
      },
      "source": [
        "# Lab 5: Spam Detection\n",
        "\n",
        "In this assignment, we will build a recurrent neural network to classify a SMS text message\n",
        "as \"spam\" or \"not spam\". In the process, you will\n",
        "    \n",
        "1. Clean and process text data for machine learning.\n",
        "2. Understand and implement a character-level recurrent neural network.\n",
        "3. Use torchtext to build recurrent neural network models.\n",
        "4. Understand batching for a recurrent neural network, and use torchtext to implement RNN batching.\n",
        "\n",
        "### What to submit\n",
        "\n",
        "Submit a PDF file containing all your code, outputs, and write-up. You can produce a PDF of your Google Colab file by going to File > Print and then save as PDF. The Colab instructions have more information.\n",
        "\n",
        "Do not submit any other files produced by your code.\n",
        "\n",
        "Include a link to your colab file in your submission."
      ]
    },
    {
      "cell_type": "markdown",
      "metadata": {
        "id": "rWiUqJJTa9z6"
      },
      "source": [
        "## Colab Link\n",
        "\n",
        "Include a link to your Colab file here. If you would like the TA to look at your\n",
        "Colab file in case your solutions are cut off, **please make sure that your Colab\n",
        "file is publicly accessible at the time of submission**."
      ]
    },
    {
      "cell_type": "markdown",
      "metadata": {
        "id": "YULuzBWp8os1"
      },
      "source": [
        "Colab Link: https://colab.research.google.com/github/jackhuang-intel/APS360/blob/main/Lab5/Lab5%20Spam%20Detection.ipynb"
      ]
    },
    {
      "cell_type": "markdown",
      "metadata": {
        "id": "iHE_8w3E8os1"
      },
      "source": [
        "As we are using the older version of the torchtext, please run the following to downgrade the torchtext version:"
      ]
    },
    {
      "cell_type": "markdown",
      "metadata": {
        "id": "EPzLAylX8os1"
      },
      "source": [
        "!pip install -U torch==1.8.0+cu111 torchtext==0.9.0 -f https://download.pytorch.org/whl/torch_stable.html"
      ]
    },
    {
      "cell_type": "markdown",
      "metadata": {
        "id": "9eNqYCKD8os1"
      },
      "source": [
        "If you are interested to use the most recent version if torchtext, you can look at the following document to see how to convert the legacy version to the new version:\n",
        "https://colab.research.google.com/github/pytorch/text/blob/master/examples/legacy_tutorial/migration_tutorial.ipynb"
      ]
    },
    {
      "cell_type": "code",
      "execution_count": 1,
      "metadata": {
        "id": "HgfNOUaPa9z8",
        "tags": []
      },
      "outputs": [],
      "source": [
        "import torch\n",
        "import torch.nn as nn\n",
        "import torch.nn.functional as F\n",
        "import torch.optim as optim\n",
        "import numpy as np"
      ]
    },
    {
      "cell_type": "code",
      "source": [
        "!pip install -U torchtext==0.6"
      ],
      "metadata": {
        "id": "0mbFLyg9IkJx",
        "outputId": "5b40f29a-bd94-49fc-83d0-b557de62f2f5",
        "colab": {
          "base_uri": "https://localhost:8080/"
        }
      },
      "execution_count": 2,
      "outputs": [
        {
          "output_type": "stream",
          "name": "stdout",
          "text": [
            "Collecting torchtext==0.6\n",
            "  Downloading torchtext-0.6.0-py3-none-any.whl (64 kB)\n",
            "\u001b[?25l     \u001b[90m━━━━━━━━━━━━━━━━━━━━━━━━━━━━━━━━━━━━━━━━\u001b[0m \u001b[32m0.0/64.2 kB\u001b[0m \u001b[31m?\u001b[0m eta \u001b[36m-:--:--\u001b[0m\r\u001b[2K     \u001b[90m━━━━━━━━━━━━━━━━━━━━━━━━━━━━━━━━━━━━━━━━\u001b[0m \u001b[32m64.2/64.2 kB\u001b[0m \u001b[31m2.3 MB/s\u001b[0m eta \u001b[36m0:00:00\u001b[0m\n",
            "\u001b[?25hRequirement already satisfied: tqdm in /usr/local/lib/python3.10/dist-packages (from torchtext==0.6) (4.65.0)\n",
            "Requirement already satisfied: requests in /usr/local/lib/python3.10/dist-packages (from torchtext==0.6) (2.27.1)\n",
            "Requirement already satisfied: torch in /usr/local/lib/python3.10/dist-packages (from torchtext==0.6) (2.0.1+cu118)\n",
            "Requirement already satisfied: numpy in /usr/local/lib/python3.10/dist-packages (from torchtext==0.6) (1.22.4)\n",
            "Requirement already satisfied: six in /usr/local/lib/python3.10/dist-packages (from torchtext==0.6) (1.16.0)\n",
            "Collecting sentencepiece (from torchtext==0.6)\n",
            "  Downloading sentencepiece-0.1.99-cp310-cp310-manylinux_2_17_x86_64.manylinux2014_x86_64.whl (1.3 MB)\n",
            "\u001b[2K     \u001b[90m━━━━━━━━━━━━━━━━━━━━━━━━━━━━━━━━━━━━━━━━\u001b[0m \u001b[32m1.3/1.3 MB\u001b[0m \u001b[31m23.7 MB/s\u001b[0m eta \u001b[36m0:00:00\u001b[0m\n",
            "\u001b[?25hRequirement already satisfied: urllib3<1.27,>=1.21.1 in /usr/local/lib/python3.10/dist-packages (from requests->torchtext==0.6) (1.26.16)\n",
            "Requirement already satisfied: certifi>=2017.4.17 in /usr/local/lib/python3.10/dist-packages (from requests->torchtext==0.6) (2023.5.7)\n",
            "Requirement already satisfied: charset-normalizer~=2.0.0 in /usr/local/lib/python3.10/dist-packages (from requests->torchtext==0.6) (2.0.12)\n",
            "Requirement already satisfied: idna<4,>=2.5 in /usr/local/lib/python3.10/dist-packages (from requests->torchtext==0.6) (3.4)\n",
            "Requirement already satisfied: filelock in /usr/local/lib/python3.10/dist-packages (from torch->torchtext==0.6) (3.12.2)\n",
            "Requirement already satisfied: typing-extensions in /usr/local/lib/python3.10/dist-packages (from torch->torchtext==0.6) (4.7.1)\n",
            "Requirement already satisfied: sympy in /usr/local/lib/python3.10/dist-packages (from torch->torchtext==0.6) (1.11.1)\n",
            "Requirement already satisfied: networkx in /usr/local/lib/python3.10/dist-packages (from torch->torchtext==0.6) (3.1)\n",
            "Requirement already satisfied: jinja2 in /usr/local/lib/python3.10/dist-packages (from torch->torchtext==0.6) (3.1.2)\n",
            "Requirement already satisfied: triton==2.0.0 in /usr/local/lib/python3.10/dist-packages (from torch->torchtext==0.6) (2.0.0)\n",
            "Requirement already satisfied: cmake in /usr/local/lib/python3.10/dist-packages (from triton==2.0.0->torch->torchtext==0.6) (3.25.2)\n",
            "Requirement already satisfied: lit in /usr/local/lib/python3.10/dist-packages (from triton==2.0.0->torch->torchtext==0.6) (16.0.6)\n",
            "Requirement already satisfied: MarkupSafe>=2.0 in /usr/local/lib/python3.10/dist-packages (from jinja2->torch->torchtext==0.6) (2.1.3)\n",
            "Requirement already satisfied: mpmath>=0.19 in /usr/local/lib/python3.10/dist-packages (from sympy->torch->torchtext==0.6) (1.3.0)\n",
            "Installing collected packages: sentencepiece, torchtext\n",
            "  Attempting uninstall: torchtext\n",
            "    Found existing installation: torchtext 0.15.2\n",
            "    Uninstalling torchtext-0.15.2:\n",
            "      Successfully uninstalled torchtext-0.15.2\n",
            "Successfully installed sentencepiece-0.1.99 torchtext-0.6.0\n"
          ]
        }
      ]
    },
    {
      "cell_type": "markdown",
      "metadata": {
        "id": "M0jLI9LBa90C"
      },
      "source": [
        "## Part 1. Data Cleaning [15 pt]\n",
        "\n",
        "We will be using the \"SMS Spam Collection Data Set\" available at http://archive.ics.uci.edu/ml/datasets/SMS+Spam+Collection\n",
        "\n",
        "There is a link to download the \"Data Folder\" at the very top of the webpage. Download the zip file, unzip it, and upload the file `SMSSpamCollection` to Colab.    "
      ]
    },
    {
      "cell_type": "markdown",
      "metadata": {
        "id": "sSuF7C_Ga90E"
      },
      "source": [
        "### Part (a) [2 pt]\n",
        "\n",
        "Open up the file in Python, and print out one example of a spam SMS, and one example of a non-spam SMS.\n",
        "\n",
        "What is the label value for a spam message, and what is the label value for a non-spam message?"
      ]
    },
    {
      "cell_type": "code",
      "execution_count": 3,
      "metadata": {
        "colab": {
          "base_uri": "https://localhost:8080/"
        },
        "collapsed": true,
        "id": "I_IfXHeTa90F",
        "jupyter": {
          "outputs_hidden": true
        },
        "outputId": "8821fca5-6b3d-48e1-fde4-339b0f3e0608"
      },
      "outputs": [
        {
          "output_type": "stream",
          "name": "stdout",
          "text": [
            "ham\tGo until jurong point, crazy.. Available only in bugis n great world la e buffet... Cine there got amore wat...\n",
            "\n",
            "spam\tFree entry in 2 a wkly comp to win FA Cup final tkts 21st May 2005. Text FA to 87121 to receive entry question(std txt rate)T&C's apply 08452810075over18's\n",
            "\n"
          ]
        }
      ],
      "source": [
        "found_ham = False\n",
        "found_spam = False\n",
        "for line in open('SMSSpamCollection'):\n",
        "    if found_ham and found_spam:\n",
        "        break\n",
        "    if not found_ham and line.split('ham'):\n",
        "        found_ham = True\n",
        "        print(line)\n",
        "\n",
        "    if not found_spam and line.startswith('spam'):\n",
        "        found_spam = True\n",
        "        print(line)"
      ]
    },
    {
      "cell_type": "markdown",
      "source": [
        "**Answer**\n",
        "\n",
        "label value for spam is \"spam\", and label value for non-spam is \"ham\""
      ],
      "metadata": {
        "id": "uiEn5X9LAQWz"
      }
    },
    {
      "cell_type": "markdown",
      "metadata": {
        "id": "AukA6vMVa90d"
      },
      "source": [
        "### Part (b) [1 pt]\n",
        "\n",
        "How many spam messages are there in the data set?\n",
        "How many non-spam messages are there in the data set?\n"
      ]
    },
    {
      "cell_type": "code",
      "execution_count": 4,
      "metadata": {
        "colab": {
          "base_uri": "https://localhost:8080/"
        },
        "collapsed": true,
        "id": "LgsqyemVa90e",
        "jupyter": {
          "outputs_hidden": true
        },
        "outputId": "e9846aff-8f0c-4175-c053-b7bace94df25"
      },
      "outputs": [
        {
          "output_type": "stream",
          "name": "stdout",
          "text": [
            "Number of non-spam:  4827\n",
            "Number of spam:  747\n"
          ]
        }
      ],
      "source": [
        "num_spam = 0\n",
        "num_ham = 0\n",
        "for line in open('SMSSpamCollection'):\n",
        "    if line.startswith('ham'):\n",
        "        num_ham += 1\n",
        "    elif line.startswith('spam'):\n",
        "        num_spam += 1\n",
        "\n",
        "print(\"Number of non-spam: \", num_ham)\n",
        "print('Number of spam: ', num_spam)"
      ]
    },
    {
      "cell_type": "markdown",
      "metadata": {
        "id": "d1WXxVt6a90h"
      },
      "source": [
        "### Part (c) [4 pt]\n",
        "\n",
        "We will be using the package `torchtext` to load, process, and batch the data.\n",
        "A tutorial to torchtext is available below. This tutorial uses the same\n",
        "Sentiment140 data set that we explored during lecture.\n",
        "\n",
        "https://medium.com/@sonicboom8/sentiment-analysis-torchtext-55fb57b1fab8\n",
        "\n",
        "Unlike what we did during lecture, we will be building a **character level RNN**.\n",
        "That is, we will treat each **character** as a token in our sequence,\n",
        "rather than each **word**.\n",
        "\n",
        "Identify two advantage and two disadvantage of modelling SMS text\n",
        "messages as a sequence of characters rather than a sequence of words."
      ]
    },
    {
      "cell_type": "markdown",
      "source": [
        "**Answer**\n",
        "\n",
        "Advantage:\n",
        "- The model captures fine-grained representation of the sms. The subtle nuances, such as variations in spelling and punctuation may convey important information.\n",
        "- The model can handle mis-spelt words and slang that may not be pre-defined, as the characters are inherently known\n",
        "\n",
        "Disadvantage:\n",
        "- Increased sequence length, or more tokens, which increases the computatinal complexity and memory\n",
        "- loss of semantic meaning"
      ],
      "metadata": {
        "id": "MSM7hbg0EQzU"
      }
    },
    {
      "cell_type": "markdown",
      "metadata": {
        "id": "ie_D0bv9a90k"
      },
      "source": [
        "### Part (d) [1 pt]\n",
        "\n",
        "We will be loading our data set using `torchtext.data.TabularDataset`. The\n",
        "constructor will read directly from the `SMSSpamCollection` file.\n",
        "\n",
        "For the data file to be read successfuly, we\n",
        "need to specify the **fields** (columns) in the file.\n",
        "In our case, the dataset has two fields:\n",
        "\n",
        "- a text field containing the sms messages,\n",
        "- a label field which will be converted into a binary label.\n",
        "\n",
        "Split the dataset into `train`, `valid`, and `test`. Use a 60-20-20 split.\n",
        "You may find this torchtext API page helpful:\n",
        "https://torchtext.readthedocs.io/en/latest/data.html#dataset\n",
        "\n",
        "Hint: There is a `Dataset` method that can perform the random split for you."
      ]
    },
    {
      "cell_type": "code",
      "source": [
        "import torchtext\n",
        "\n",
        "text_field = torchtext.data.Field(\n",
        "    sequential=True,\n",
        "    tokenize=lambda x: x,\n",
        "    include_lengths=True,\n",
        "    batch_first=True,\n",
        "    use_vocab=True\n",
        ")\n",
        "label_field = torchtext.data.Field(\n",
        "    sequential=False,\n",
        "    is_target=True,\n",
        "    batch_first=True,\n",
        "    preprocessing=lambda x: int(x == 'spam') # convert text to 0 and 1\n",
        ")\n",
        "\n",
        "fields = [('label', label_field), ('sms', text_field)]\n",
        "dataset = torchtext.data.TabularDataset(\"SMSSpamCollection\", \"tsv\", fields)\n",
        "train, valid, test = dataset.split([0.6, 0.2, 0.2], True)"
      ],
      "metadata": {
        "id": "1cB828spGxcv"
      },
      "execution_count": 123,
      "outputs": []
    },
    {
      "cell_type": "markdown",
      "metadata": {
        "id": "v6nP0Ks_a90o"
      },
      "source": [
        "### Part (e) [2 pt]\n",
        "\n",
        "You saw in part (b) that there are many more non-spam messages than spam messages.\n",
        "This **imbalance** in our training data will be problematic for training.\n",
        "We can fix this disparity by duplicating spam messages in the training set,\n",
        "so that the training set is roughly **balanced**.\n",
        "\n",
        "Explain why having a balanced training set is helpful for training our neural network.\n",
        "\n",
        "Note: if you are not sure, try removing the below code and train your mode."
      ]
    },
    {
      "cell_type": "code",
      "execution_count": 124,
      "metadata": {
        "colab": {
          "base_uri": "https://localhost:8080/"
        },
        "collapsed": true,
        "id": "FWvx9_rka90p",
        "jupyter": {
          "outputs_hidden": true
        },
        "outputId": "1990e9be-0abd-44cf-b8d1-6fc20787bdfe"
      },
      "outputs": [
        {
          "output_type": "stream",
          "name": "stdout",
          "text": [
            "New length of the training:  6031\n"
          ]
        }
      ],
      "source": [
        "# save the original training examples\n",
        "old_train_examples = train.examples\n",
        "# get all the spam messages in `train`\n",
        "train_spam = []\n",
        "for item in train.examples:\n",
        "    if item.label == 1:\n",
        "        train_spam.append(item)\n",
        "# duplicate each spam message 6 more times\n",
        "train.examples = old_train_examples + train_spam * 6\n",
        "\n",
        "print(\"New length of the training: \", len(train.examples))"
      ]
    },
    {
      "cell_type": "markdown",
      "source": [
        "**Answer**\n",
        "\n",
        "A balanced training set is helpful because it helps prevent the model from becoming biased towards one class.  If there are way more non-spam data than spam data, the model may just default most of its guesses towards non-spam and be correct more often than not."
      ],
      "metadata": {
        "id": "gvuAJhbTK8yE"
      }
    },
    {
      "cell_type": "markdown",
      "metadata": {
        "id": "j7eUmBEva90r"
      },
      "source": [
        "### Part (f) [1 pt]\n",
        "\n",
        "We need to build the vocabulary on the training data by running the below code.\n",
        "This finds all the possible character tokens in the training set.\n",
        "\n",
        "Explain what the variables `text_field.vocab.stoi` and `text_field.vocab.itos` represent."
      ]
    },
    {
      "cell_type": "code",
      "execution_count": 125,
      "metadata": {
        "collapsed": true,
        "id": "8CQM8flKa90s",
        "jupyter": {
          "outputs_hidden": true
        }
      },
      "outputs": [],
      "source": [
        "text_field.build_vocab(train)\n",
        "label_field.build_vocab(train)\n",
        "#text_field.vocab.stoi\n",
        "#text_field.vocab.itos"
      ]
    },
    {
      "cell_type": "markdown",
      "source": [
        "**Answer**\n",
        "\n",
        "Stoi: A collections.defaultdict instance mapping token strings to numerical identifiers.\n",
        "\n",
        "itos: A list of token strings indexed by their numerical identifiers."
      ],
      "metadata": {
        "id": "NTqB2CU8Mo9k"
      }
    },
    {
      "cell_type": "markdown",
      "metadata": {
        "id": "TC8WVE8Ua90u"
      },
      "source": [
        "### Part (g) [2 pt]\n",
        "\n",
        "The tokens `<unk>` and `<pad>` were not in our SMS text messages.\n",
        "What do these two values represent?"
      ]
    },
    {
      "cell_type": "markdown",
      "source": [
        "**Answer**\n",
        "\n",
        "`<unk>` are unknown unknown characters, which doesn't exist in the vocab set.\n",
        "\n",
        "`<pad>` are padding tokens. It is used to pad data to the same length within a batch of data."
      ],
      "metadata": {
        "id": "BJlX0GDiNiSM"
      }
    },
    {
      "cell_type": "markdown",
      "metadata": {
        "id": "Ff5CNk7Qa90y"
      },
      "source": [
        "### Part (h) [2 pt]\n",
        "\n",
        "Since text sequences are of variable length, `torchtext` provides a `BucketIterator` data loader,\n",
        "which batches similar length sequences together. The iterator also provides functionalities to\n",
        "pad sequences automatically.\n",
        "\n",
        "Take a look at 10 batches in `train_iter`. What is the maximum length of the\n",
        "input sequence in each batch? How many `<pad>` tokens are used in each of the 10\n",
        "batches?"
      ]
    },
    {
      "cell_type": "code",
      "execution_count": 126,
      "metadata": {
        "collapsed": true,
        "id": "V8N8qLWOa90y",
        "jupyter": {
          "outputs_hidden": true
        }
      },
      "outputs": [],
      "source": [
        "train_iter = torchtext.data.BucketIterator(train,\n",
        "                                           batch_size=32,\n",
        "                                           sort_key=lambda x: len(x.sms), # to minimize padding\n",
        "                                           sort_within_batch=True,        # sort within each batch\n",
        "                                           repeat=False)                  # repeat the iterator for many epochs"
      ]
    },
    {
      "cell_type": "code",
      "execution_count": 129,
      "metadata": {
        "colab": {
          "base_uri": "https://localhost:8080/"
        },
        "collapsed": true,
        "id": "Qwz-rOaha902",
        "jupyter": {
          "outputs_hidden": true
        },
        "outputId": "2f426172-9851-4747-f405-fdf113ffb060"
      },
      "outputs": [
        {
          "output_type": "stream",
          "name": "stdout",
          "text": [
            "tensor([0, 0, 0, 0, 0, 0, 0, 0, 0, 0, 0, 0, 0, 0, 0, 0, 0, 1, 0, 0, 0, 0, 0, 0,\n",
            "        0, 0, 0, 0, 0, 0, 0, 0])\n",
            "Batch No: 0, the max length is: 161, num <pad>: 2\n",
            "tensor([0, 0, 0, 0, 0, 0, 0, 0, 0, 0, 0, 1, 0, 0, 0, 0, 0, 0, 0, 0, 0, 0, 0, 0,\n",
            "        0, 0, 0, 0, 0, 0, 1, 0])\n",
            "Batch No: 1, the max length is: 162, num <pad>: 18\n",
            "tensor([1, 0, 0, 0, 1, 1, 0, 0, 0, 0, 0, 1, 1, 0, 0, 0, 1, 1, 0, 0, 1, 0, 0, 0,\n",
            "        0, 1, 0, 0, 1, 0, 1, 1])\n",
            "Batch No: 2, the max length is: 126, num <pad>: 53\n",
            "tensor([1, 0, 0, 0, 0, 1, 0, 0, 0, 0, 1, 1, 1, 1, 1, 1, 1, 1, 1, 1, 1, 0, 0, 0,\n",
            "        1, 1, 0, 0, 0, 1, 1, 1])\n",
            "Batch No: 3, the max length is: 114, num <pad>: 54\n",
            "tensor([1, 0, 0, 0, 0, 0, 0, 1, 0, 0, 0, 0, 0, 0, 0, 0, 0, 0, 0, 0, 0, 0, 0, 0,\n",
            "        0, 0, 0, 0, 0, 0, 1, 0])\n",
            "Batch No: 4, the max length is: 152, num <pad>: 0\n",
            "tensor([0, 0, 0, 0, 0, 0, 0, 0, 0, 0, 1, 0, 0, 0, 0, 1, 0, 0, 1, 0, 0, 1, 0, 0,\n",
            "        1, 0, 1, 0, 1, 0, 1, 1])\n",
            "Batch No: 5, the max length is: 135, num <pad>: 19\n",
            "tensor([1, 0, 1, 0, 0, 0, 0, 0, 1, 0, 0, 1, 1, 0, 1, 0, 0, 1, 1, 1, 0, 0, 1, 0,\n",
            "        1, 1, 0, 0, 0, 0, 1, 0])\n",
            "Batch No: 6, the max length is: 123, num <pad>: 51\n",
            "tensor([0, 0, 0, 0, 0, 0, 0, 0, 0, 0, 0, 0, 0, 0, 0, 0, 0, 0, 0, 0, 0, 0, 0, 0,\n",
            "        0, 0, 0, 0, 0, 0, 0, 0])\n",
            "Batch No: 7, the max length is: 154, num <pad>: 0\n",
            "tensor([1, 1, 1, 1, 1, 1, 1, 1, 1, 1, 1, 1, 1, 1, 1, 1, 1, 1, 1, 1, 1, 1, 1, 1,\n",
            "        1, 1, 1, 1, 1, 1, 1, 1])\n",
            "Batch No: 8, the max length is: 42, num <pad>: 26\n",
            "tensor([1, 1, 1, 1, 1, 1, 1, 1, 1, 1, 1, 1, 1, 1, 1, 1, 1, 1, 1, 1, 1, 1, 1, 1,\n",
            "        1, 1, 1, 1, 1, 1, 1, 1])\n",
            "Batch No: 9, the max length is: 55, num <pad>: 26\n"
          ]
        }
      ],
      "source": [
        "count = 0\n",
        "for batch in train_iter:\n",
        "    if count >= 10:\n",
        "        break\n",
        "    sum = 0\n",
        "    for msg in range(0, len(batch)):\n",
        "        # batch.sms[0] contains BATCH_SIZE list of tensors, each tensor representing a sms.\n",
        "        # batch.sms[1] contains BATCH_SIZE list of length of actual sms in descending order\n",
        "        # therefore the batch.sms[1][0] - batch.sms[0][msg] returns the number of padding.\n",
        "        sum += batch.sms[1][0] - batch.sms[1][msg]\n",
        "    print(f\"Batch No: {count}, the max length is: {len(batch.sms[0][0])}, num <pad>: {sum}\")\n",
        "    count += 1"
      ]
    },
    {
      "cell_type": "markdown",
      "metadata": {
        "id": "y7HnqP6_a904"
      },
      "source": [
        "## Part 2. Model Building [8 pt]\n",
        "\n",
        "Build a recurrent neural network model, using an architecture of your choosing.\n",
        "Use the one-hot embedding of each character as input to your recurrent network.\n",
        "Use one or more fully-connected layers to make the prediction based on your\n",
        "recurrent network output.\n",
        "\n",
        "Instead of using the RNN output value for the final token, another often used\n",
        "strategy is to max-pool over the entire output array. That is, instead of calling\n",
        "something like:\n",
        "\n",
        "```\n",
        "out, _ = self.rnn(x)\n",
        "self.fc(out[:, -1, :])\n",
        "```\n",
        "\n",
        "where `self.rnn` is an `nn.RNN`, `nn.GRU`, or `nn.LSTM` module, and `self.fc` is a\n",
        "fully-connected\n",
        "layer, we use:\n",
        "\n",
        "```\n",
        "out, _ = self.rnn(x)\n",
        "self.fc(torch.max(out, dim=1)[0])\n",
        "```\n",
        "\n",
        "This works reasonably in practice. An even better alternative is to concatenate the\n",
        "max-pooling and average-pooling of the RNN outputs:\n",
        "\n",
        "```\n",
        "out, _ = self.rnn(x)\n",
        "out = torch.cat([torch.max(out, dim=1)[0],\n",
        "                 torch.mean(out, dim=1)], dim=1)\n",
        "self.fc(out)\n",
        "```\n",
        "\n",
        "We encourage you to try out all these options. The way you pool the RNN outputs\n",
        "is one of the \"hyperparameters\" that you can choose to tune later on."
      ]
    },
    {
      "cell_type": "code",
      "execution_count": 81,
      "metadata": {
        "colab": {
          "base_uri": "https://localhost:8080/"
        },
        "collapsed": true,
        "id": "jHl1p_Wwa905",
        "jupyter": {
          "outputs_hidden": true
        },
        "outputId": "c28b93d1-31b7-4fe0-9580-7eb81f11b198"
      },
      "outputs": [
        {
          "output_type": "stream",
          "name": "stdout",
          "text": [
            "tensor([1., 0., 0., 0., 0., 0., 0., 0., 0., 0.])\n",
            "tensor([0., 1., 0., 0., 0., 0., 0., 0., 0., 0.])\n",
            "tensor([[[0., 1., 0., 0., 0., 0., 0., 0., 0., 0.],\n",
            "         [0., 0., 1., 0., 0., 0., 0., 0., 0., 0.]],\n",
            "\n",
            "        [[0., 0., 0., 1., 0., 0., 0., 0., 0., 0.],\n",
            "         [0., 0., 0., 0., 1., 0., 0., 0., 0., 0.]]])\n"
          ]
        }
      ],
      "source": [
        "# You might find this code helpful for obtaining\n",
        "# PyTorch one-hot vectors.\n",
        "\n",
        "ident = torch.eye(10)\n",
        "print(ident[0]) # one-hot vector\n",
        "print(ident[1]) # one-hot vector\n",
        "x = torch.tensor([[1, 2], [3, 4]])\n",
        "print(ident[x]) # one-hot vectors"
      ]
    },
    {
      "cell_type": "code",
      "execution_count": 146,
      "metadata": {
        "collapsed": true,
        "id": "4LTQ7zFka909",
        "jupyter": {
          "outputs_hidden": true
        }
      },
      "outputs": [],
      "source": [
        "class RNN(nn.Module):\n",
        "    def __init__(self, input_size, hidden_size):\n",
        "        self.name = \"rnn\"\n",
        "        super(RNN, self).__init__()\n",
        "        self.emb = torch.eye(input_size)\n",
        "        self.hidden_size = hidden_size\n",
        "        self.rnn = nn.RNN(input_size, hidden_size, batch_first=True)\n",
        "        self.fc = nn.Linear(hidden_size, 2) # only 2 output classes\n",
        "\n",
        "    def forward(self, x):\n",
        "        x = self.emb[x]\n",
        "        h0 = torch.zeros(1, x.size(0), self.hidden_size)\n",
        "        out, _ = self.rnn(x, h0)\n",
        "        # out = torch.cat([torch.max(out, dim=1)[0],\n",
        "        #          torch.mean(out, dim=1)], dim=1)\n",
        "        # out = self.fc(out)\n",
        "        out = self.fc(out[:, -1, :])\n",
        "        return out\n",
        "\n",
        "class RNN_max(nn.Module):\n",
        "    def __init__(self, input_size, hidden_size):\n",
        "        self.name = \"rnn_max\"\n",
        "        super(RNN_max, self).__init__()\n",
        "        self.emb = torch.eye(input_size)\n",
        "        self.hidden_size = hidden_size\n",
        "        self.rnn = nn.RNN(input_size, hidden_size, batch_first=True)\n",
        "        self.fc = nn.Linear(hidden_size, 2) # only 2 output classes\n",
        "\n",
        "    def forward(self, x):\n",
        "        x = self.emb[x]\n",
        "        h0 = torch.zeros(1, x.size(0), self.hidden_size)\n",
        "        out, _ = self.rnn(x, h0)\n",
        "        out = self.fc(torch.max(out, dim=1)[0])\n",
        "        return out\n",
        "class RNN_max_mean(nn.Module):\n",
        "    def __init__(self, input_size, hidden_size):\n",
        "        self.name = \"rnn_max_mean\"\n",
        "        super(RNN_max_mean, self).__init__()\n",
        "        self.emb = torch.eye(input_size)\n",
        "        self.hidden_size = hidden_size\n",
        "        self.rnn = nn.RNN(input_size, hidden_size, batch_first=True)\n",
        "        self.fc = nn.Linear(hidden_size * 2, 2) # only 2 output classes\n",
        "\n",
        "    def forward(self, x):\n",
        "        x = self.emb[x]\n",
        "        h0 = torch.zeros(1, x.size(0), self.hidden_size)\n",
        "        out, _ = self.rnn(x, h0)\n",
        "        out = torch.cat([torch.max(out, dim=1)[0],\n",
        "                 torch.mean(out, dim=1)], dim=1)\n",
        "        out = self.fc(out)\n",
        "        return out"
      ]
    },
    {
      "cell_type": "markdown",
      "metadata": {
        "id": "vKIYPl_Ba90_"
      },
      "source": [
        "## Part 3. Training [16 pt]\n",
        "\n",
        "### Part (a) [4 pt]\n",
        "\n",
        "Complete the `get_accuracy` function, which will compute the\n",
        "accuracy (rate) of your model across a dataset (e.g. validation set).\n",
        "You may modify `torchtext.data.BucketIterator` to make your computation\n",
        "faster."
      ]
    },
    {
      "cell_type": "code",
      "execution_count": 136,
      "metadata": {
        "collapsed": true,
        "id": "pvNfhGD6a91A",
        "jupyter": {
          "outputs_hidden": true
        }
      },
      "outputs": [],
      "source": [
        "def get_accuracy(model, data_loader):\n",
        "    \"\"\" Compute the accuracy of the `model` across a dataset `data`\n",
        "\n",
        "    Example usage:\n",
        "\n",
        "    >>> model = MyRNN() # to be defined\n",
        "    >>> get_accuracy(model, valid) # the variable `valid` is from above\n",
        "    \"\"\"\n",
        "    correct, total = 0, 0\n",
        "    for message, labels in data_loader:\n",
        "        labels = labels - 1\n",
        "        output = model(message[0])\n",
        "        pred = output.max(1, keepdim=True)[1]\n",
        "        correct += pred.eq(labels.view_as(pred)).sum().item()\n",
        "        total += labels.shape[0]\n",
        "    return correct / total"
      ]
    },
    {
      "cell_type": "markdown",
      "metadata": {
        "id": "TlxlcAC1a91C"
      },
      "source": [
        "### Part (b) [4 pt]\n",
        "\n",
        "Train your model. Plot the training curve of your final model.\n",
        "Your training curve should have the training/validation loss and\n",
        "accuracy plotted periodically.\n",
        "\n",
        "Note: Not all of your batches will have the same batch size.\n",
        "In particular, if your training set does not divide evenly by\n",
        "your batch size, there will be a batch that is smaller than\n",
        "the rest."
      ]
    },
    {
      "cell_type": "code",
      "execution_count": 134,
      "metadata": {
        "collapsed": true,
        "id": "CVtf7CJCa91D",
        "jupyter": {
          "outputs_hidden": true
        }
      },
      "outputs": [],
      "source": [
        "import os\n",
        "\n",
        "def plot_training_curve(path):\n",
        "    \"\"\" Plots the training curve for a model run, given the csv files\n",
        "    containing the train/validation accuracy/loss.\n",
        "\n",
        "    Args:\n",
        "        path: The base path of the csv files produced during training\n",
        "    \"\"\"\n",
        "    import matplotlib.pyplot as plt\n",
        "    train_err = np.loadtxt(\"./csv/{}_train_acc.csv\".format(path))\n",
        "    val_err = np.loadtxt(\"./csv/{}_val_acc.csv\".format(path))\n",
        "    train_loss = np.loadtxt(\"./csv/{}_train_loss.csv\".format(path))\n",
        "    val_loss = np.loadtxt(\"./csv/{}_val_loss.csv\".format(path))\n",
        "    plt.title(\"Train vs Validation Accuracy\")\n",
        "    n = len(train_err) # number of epochs\n",
        "    plt.plot(range(1,n+1), train_err, label=\"Train\")\n",
        "    plt.plot(range(1,n+1), val_err, label=\"Validation\")\n",
        "    plt.xlabel(\"Epoch\")\n",
        "    plt.ylabel(\"Accuracy\")\n",
        "    plt.legend(loc='best')\n",
        "    plt.show()\n",
        "    plt.title(\"Train vs Validation Loss\")\n",
        "    plt.plot(range(1,n+1), train_loss, label=\"Train\")\n",
        "    plt.plot(range(1,n+1), val_loss, label=\"Validation\")\n",
        "    plt.xlabel(\"Epoch\")\n",
        "    plt.ylabel(\"Loss\")\n",
        "    plt.legend(loc='best')\n",
        "    plt.show()\n",
        "\n",
        "def train_rnn(model, train_data, valid_data, batch_size=64, num_epochs=5, learning_rate=1e-4):\n",
        "    \"\"\" Training loop. You should update this.\"\"\"\n",
        "    torch.manual_seed(42)\n",
        "    train_loader = torchtext.data.BucketIterator(train_data,\n",
        "                                           batch_size=batch_size,\n",
        "                                           sort_key=lambda x: len(x.sms),\n",
        "                                           sort_within_batch=True,\n",
        "                                           repeat=False)\n",
        "    valid_loader = torchtext.data.BucketIterator(valid_data,\n",
        "                                           batch_size=batch_size,\n",
        "                                           sort_key=lambda x: len(x.sms),\n",
        "                                           sort_within_batch=True,\n",
        "                                           repeat=False)\n",
        "    criterion = nn.CrossEntropyLoss()\n",
        "    optimizer = torch.optim.Adam(model.parameters(), lr=learning_rate)\n",
        "\n",
        "    # record training, validation accuracy and loss\n",
        "    train_acc = np.zeros(num_epochs)\n",
        "    val_acc = np.zeros(num_epochs)\n",
        "    train_loss = np.zeros(num_epochs)\n",
        "    val_loss = np.zeros(num_epochs)\n",
        "    for epoch in range(num_epochs):\n",
        "        total_train_loss = 0.0\n",
        "        total_validation_loss = 0.0\n",
        "\n",
        "        for messages, labels in train_loader:\n",
        "            optimizer.zero_grad()\n",
        "            pred = model(messages[0])\n",
        "            loss = criterion(pred, labels-1)\n",
        "            loss.backward()\n",
        "            optimizer.step()\n",
        "            total_train_loss += float(loss)\n",
        "\n",
        "        for messages, labels in valid_loader:\n",
        "            pred = model(messages[0])\n",
        "            loss = criterion(pred, labels-1)\n",
        "            total_validation_loss += float(loss)\n",
        "\n",
        "        train_loss[epoch] = float(total_train_loss) / batch_size\n",
        "        val_loss[epoch] = float(total_validation_loss) / batch_size\n",
        "        train_acc[epoch] = get_accuracy(model, train_loader)\n",
        "        val_acc[epoch] = get_accuracy(model, valid_loader)\n",
        "\n",
        "        os.makedirs(\"./models\", exist_ok=True)\n",
        "        model_path = f\"model_{model.name}_bs{batch_size}_lr{learning_rate}_epoch{epoch}\"\n",
        "        torch.save(model.state_dict(), \"./models/\"+model_path)\n",
        "        print((\"Epoch {}: Train acc: {}, Train loss: {} |\"+\n",
        "                \"Validation acc: {}, Validation loss: {}\").format(\n",
        "                     epoch + 1,\n",
        "                     train_acc[epoch],\n",
        "                     train_loss[epoch],\n",
        "                     val_acc[epoch],\n",
        "                     val_loss[epoch]))\n",
        "    os.makedirs(\"./csv\", exist_ok=True)\n",
        "    np.savetxt(\"./csv/{}_train_acc.csv\".format(model_path), train_acc)\n",
        "    np.savetxt(\"./csv/{}_val_acc.csv\".format(model_path), val_acc)\n",
        "    np.savetxt(\"./csv/{}_train_loss.csv\".format(model_path), train_loss)\n",
        "    np.savetxt(\"./csv/{}_val_loss.csv\".format(model_path), val_loss)"
      ]
    },
    {
      "cell_type": "code",
      "source": [
        "batch_size = 64\n",
        "num_epoch = 30\n",
        "lr = 1e-4\n",
        "input_size = len(text_field.vocab.itos)\n",
        "model = RNN(input_size, hidden_size=50)\n",
        "train_rnn(model, train, valid, batch_size, num_epoch, lr)\n",
        "model_path = f\"model_{model.name}_bs{batch_size}_lr{lr}_epoch{num_epoch-1}\"\n",
        "plot_training_curve(model_path)\n"
      ],
      "metadata": {
        "id": "fszLApPYr019",
        "outputId": "cd799d77-04b3-49ec-bd02-efd29a74b757",
        "colab": {
          "base_uri": "https://localhost:8080/",
          "height": 1000
        }
      },
      "execution_count": 142,
      "outputs": [
        {
          "output_type": "stream",
          "name": "stdout",
          "text": [
            "Epoch 1: Train acc: 0.5869673354335931, Train loss: 1.0145875653252006 |Validation acc: 0.8026905829596412, Validation loss: 0.18326617125421762\n",
            "Epoch 2: Train acc: 0.6627424970983253, Train loss: 1.0000577457249165 |Validation acc: 0.7901345291479821, Validation loss: 0.18242210056632757\n",
            "Epoch 3: Train acc: 0.7055214723926381, Train loss: 0.9832759574055672 |Validation acc: 0.7775784753363228, Validation loss: 0.1789974942803383\n",
            "Epoch 4: Train acc: 0.736030509036644, Train loss: 0.9510464696213603 |Validation acc: 0.7784753363228699, Validation loss: 0.17175802774727345\n",
            "Epoch 5: Train acc: 0.8759741336428453, Train loss: 0.8550111462827772 |Validation acc: 0.8672645739910314, Validation loss: 0.10988133982755244\n",
            "Epoch 6: Train acc: 0.8623777151384513, Train loss: 0.6473869583569467 |Validation acc: 0.9112107623318386, Validation loss: 0.09086305578239262\n",
            "Epoch 7: Train acc: 0.915271099320179, Train loss: 0.4727317375363782 |Validation acc: 0.9022421524663677, Validation loss: 0.08470365486573428\n",
            "Epoch 8: Train acc: 0.9054883103962859, Train loss: 0.4002585258567706 |Validation acc: 0.852017937219731, Validation loss: 0.09355108020827174\n",
            "Epoch 9: Train acc: 0.9212402586635715, Train loss: 0.4159699787851423 |Validation acc: 0.9165919282511211, Validation loss: 0.07446283870376647\n",
            "Epoch 10: Train acc: 0.9210744486818107, Train loss: 0.3803481020149775 |Validation acc: 0.9246636771300448, Validation loss: 0.06856857251841575\n",
            "Epoch 11: Train acc: 0.9111258497761565, Train loss: 0.35256628144998103 |Validation acc: 0.9336322869955157, Validation loss: 0.06619090819731355\n",
            "Epoch 12: Train acc: 0.9270436080252031, Train loss: 0.3426024356740527 |Validation acc: 0.9309417040358744, Validation loss: 0.06607370905112475\n",
            "Epoch 13: Train acc: 0.9345050572044437, Train loss: 0.3477519068401307 |Validation acc: 0.9345291479820628, Validation loss: 0.06533952069003135\n",
            "Epoch 14: Train acc: 0.9326811474050738, Train loss: 0.30955924722366035 |Validation acc: 0.885201793721973, Validation loss: 0.08090396970510483\n",
            "Epoch 15: Train acc: 0.9066489802686122, Train loss: 0.2955069962772541 |Validation acc: 0.8385650224215246, Validation loss: 0.09905073093250394\n",
            "Epoch 16: Train acc: 0.9481014757088376, Train loss: 0.2722081186075229 |Validation acc: 0.9228699551569507, Validation loss: 0.0657247967319563\n",
            "Epoch 17: Train acc: 0.9459459459459459, Train loss: 0.2604576225276105 |Validation acc: 0.8995515695067264, Validation loss: 0.07004472659900784\n",
            "Epoch 18: Train acc: 0.9394793566572708, Train loss: 0.24915223912103102 |Validation acc: 0.8887892376681614, Validation loss: 0.07085547549650073\n",
            "Epoch 19: Train acc: 0.9364947769855745, Train loss: 0.24392468252335675 |Validation acc: 0.8860986547085202, Validation loss: 0.07717814389616251\n",
            "Epoch 20: Train acc: 0.9431271762560106, Train loss: 0.2192048737197183 |Validation acc: 0.9408071748878923, Validation loss: 0.05749132260098122\n",
            "Epoch 21: Train acc: 0.9578842646327309, Train loss: 0.22187277337070554 |Validation acc: 0.9327354260089686, Validation loss: 0.055440272437408566\n",
            "Epoch 22: Train acc: 0.9630243740673189, Train loss: 0.20203090764698572 |Validation acc: 0.9282511210762332, Validation loss: 0.06074923858977854\n",
            "Epoch 23: Train acc: 0.9620295141767534, Train loss: 0.20526915800292045 |Validation acc: 0.9201793721973094, Validation loss: 0.057773390086367726\n",
            "Epoch 24: Train acc: 0.9573868346874482, Train loss: 0.22867099454742856 |Validation acc: 0.9408071748878923, Validation loss: 0.050227216561324894\n",
            "Epoch 25: Train acc: 0.9534073951251866, Train loss: 0.20207529948675074 |Validation acc: 0.9040358744394619, Validation loss: 0.06355905684176832\n",
            "Epoch 26: Train acc: 0.9633559940308406, Train loss: 0.19354151978041045 |Validation acc: 0.9246636771300448, Validation loss: 0.05613633984467015\n",
            "Epoch 27: Train acc: 0.9595423644503399, Train loss: 0.1857287279854063 |Validation acc: 0.9408071748878923, Validation loss: 0.04633326648036018\n",
            "Epoch 28: Train acc: 0.9612004642679489, Train loss: 0.20659186113334727 |Validation acc: 0.9443946188340807, Validation loss: 0.05209501623176038\n",
            "Epoch 29: Train acc: 0.9706516332283204, Train loss: 0.18477080191951245 |Validation acc: 0.9408071748878923, Validation loss: 0.04872021428309381\n",
            "Epoch 30: Train acc: 0.9514176753440557, Train loss: 0.177475927353953 |Validation acc: 0.9426008968609866, Validation loss: 0.055513981147669256\n"
          ]
        },
        {
          "output_type": "display_data",
          "data": {
            "text/plain": [
              "<Figure size 640x480 with 1 Axes>"
            ],
            "image/png": "[encoded data removed]"
          },
          "metadata": {}
        },
        {
          "output_type": "display_data",
          "data": {
            "text/plain": [
              "<Figure size 640x480 with 1 Axes>"
            ],
            "image/png": "[encoded data removed]"
          },
          "metadata": {}
        }
      ]
    },
    {
      "cell_type": "markdown",
      "metadata": {
        "id": "fE3eRkDAa91F"
      },
      "source": [
        "### Part (c) [4 pt]\n",
        "\n",
        "Choose at least 4 hyperparameters to tune. Explain how you tuned the hyperparameters.\n",
        "You don't need to include your training curve for every model you trained.\n",
        "Instead, explain what hyperparemters you tuned, what the best validation accuracy was,\n",
        "and the reasoning behind the hyperparameter decisions you made.\n",
        "\n",
        "For this assignment, you should tune more than just your learning rate and epoch.\n",
        "Choose at least 2 hyperparameters that are unrelated to the optimizer."
      ]
    },
    {
      "cell_type": "code",
      "execution_count": 143,
      "metadata": {
        "colab": {
          "base_uri": "https://localhost:8080/"
        },
        "collapsed": true,
        "id": "A2GEWfDca91G",
        "jupyter": {
          "outputs_hidden": true
        },
        "outputId": "813d3408-a42f-405c-b3ff-bffa68fbb0b3"
      },
      "outputs": [
        {
          "output_type": "stream",
          "name": "stdout",
          "text": [
            "Epoch 1: Train acc: 0.4800198971978113, Train loss: 1.0448578195646405 |Validation acc: 0.8654708520179372, Validation loss: 0.17983444035053253\n",
            "Epoch 2: Train acc: 0.5984082241750953, Train loss: 1.0205432707443833 |Validation acc: 0.862780269058296, Validation loss: 0.1849192464724183\n",
            "Epoch 3: Train acc: 0.8907312220195656, Train loss: 1.0025662537664175 |Validation acc: 0.905829596412556, Validation loss: 0.18696328345686197\n",
            "Epoch 4: Train acc: 0.8472890067982093, Train loss: 0.9824422355741262 |Validation acc: 0.8493273542600897, Validation loss: 0.18710357509553432\n",
            "Epoch 5: Train acc: 0.8673520145912784, Train loss: 0.9616471491754055 |Validation acc: 0.8672645739910314, Validation loss: 0.18436789605766535\n",
            "Epoch 6: Train acc: 0.9038302105786769, Train loss: 0.9339453699067235 |Validation acc: 0.9139013452914798, Validation loss: 0.17990965116769075\n",
            "Epoch 7: Train acc: 0.9479356657270768, Train loss: 0.8923299536108971 |Validation acc: 0.9479820627802691, Validation loss: 0.17078271508216858\n",
            "Epoch 8: Train acc: 0.9353341071132483, Train loss: 0.8199105709791183 |Validation acc: 0.9452914798206278, Validation loss: 0.14980050874873996\n",
            "Epoch 9: Train acc: 0.9217376886088543, Train loss: 0.6924971421249211 |Validation acc: 0.8995515695067264, Validation loss: 0.13352655665948987\n",
            "Epoch 10: Train acc: 0.8887415022384347, Train loss: 0.6155210337601602 |Validation acc: 0.9623318385650225, Validation loss: 0.10193337965756655\n",
            "Epoch 11: Train acc: 0.9242248383352678, Train loss: 0.579524107510224 |Validation acc: 0.9461883408071748, Validation loss: 0.09872194519266486\n",
            "Epoch 12: Train acc: 0.9351682971314873, Train loss: 0.5106621591839939 |Validation acc: 0.9255605381165919, Validation loss: 0.0961361532099545\n",
            "Epoch 13: Train acc: 0.9472724258000331, Train loss: 0.454488892108202 |Validation acc: 0.9327354260089686, Validation loss: 0.09156523970887065\n",
            "Epoch 14: Train acc: 0.9472724258000331, Train loss: 0.42236152081750333 |Validation acc: 0.9282511210762332, Validation loss: 0.08879973739385605\n",
            "Epoch 15: Train acc: 0.940805836511358, Train loss: 0.39552481658756733 |Validation acc: 0.9183856502242153, Validation loss: 0.08505565067753196\n",
            "Epoch 16: Train acc: 0.9495937655446858, Train loss: 0.37588117469567806 |Validation acc: 0.9372197309417041, Validation loss: 0.07438794034533203\n",
            "Epoch 17: Train acc: 0.9464433758912286, Train loss: 0.3529855664819479 |Validation acc: 0.9318385650224216, Validation loss: 0.07472425396554172\n",
            "Epoch 18: Train acc: 0.9240590283535068, Train loss: 0.42582130106166005 |Validation acc: 0.9488789237668162, Validation loss: 0.0553096936782822\n",
            "Epoch 19: Train acc: 0.9530757751616648, Train loss: 0.34178598830476403 |Validation acc: 0.9506726457399103, Validation loss: 0.059011869598180056\n",
            "Epoch 20: Train acc: 0.9570552147239264, Train loss: 0.30216833855956793 |Validation acc: 0.9461883408071748, Validation loss: 0.0611072713509202\n"
          ]
        }
      ],
      "source": [
        "\"\"\"\n",
        "For this assignment, I will be tuning the number of hidden units, RNN output value tokens, num_epoch, and learning rate\n",
        "\"\"\"\n",
        "\n",
        "# 1 change rnn output value tokens, one that uses a max pooling layer\n",
        "# lower amount of epoch as it didn't make a significant difference\n",
        "batch_size = 64\n",
        "num_epoch = 20\n",
        "lr = 1e-4\n",
        "input_size = len(text_field.vocab.itos)\n",
        "model = RNN_max(input_size, hidden_size=50)\n",
        "train_rnn(model, train, valid, batch_size, num_epoch, lr)\n",
        "model_path = f\"model_{model.name}_bs{batch_size}_lr{lr}_epoch{num_epoch-1}\""
      ]
    },
    {
      "cell_type": "code",
      "source": [
        "\"\"\"\n",
        "from above, we can see that the best accuracy is 96%. Let's now try to change the output token layer again to that of the maxpooling + mean\n",
        "\"\"\"\n",
        "batch_size = 64\n",
        "num_epoch = 20\n",
        "lr = 1e-4\n",
        "input_size = len(text_field.vocab.itos)\n",
        "model = RNN_max_mean(input_size, hidden_size=50)\n",
        "train_rnn(model, train, valid, batch_size, num_epoch, lr)\n",
        "model_path = f\"model_{model.name}_bs{batch_size}_lr{lr}_epoch{num_epoch-1}\""
      ],
      "metadata": {
        "id": "UwXmAh1E8rIi",
        "outputId": "98e360af-11a2-4a96-cea2-f7fad27dd990",
        "colab": {
          "base_uri": "https://localhost:8080/"
        }
      },
      "execution_count": 147,
      "outputs": [
        {
          "output_type": "stream",
          "name": "stdout",
          "text": [
            "Epoch 1: Train acc: 0.6517990383021058, Train loss: 1.0309517132118344 |Validation acc: 0.4367713004484305, Validation loss: 0.1952849579975009\n",
            "Epoch 2: Train acc: 0.5984082241750953, Train loss: 1.0179712139070034 |Validation acc: 0.2914798206278027, Validation loss: 0.1958184214308858\n",
            "Epoch 3: Train acc: 0.6060354833360968, Train loss: 1.0053057642653584 |Validation acc: 0.30493273542600896, Validation loss: 0.19527489226311445\n",
            "Epoch 4: Train acc: 0.6486486486486487, Train loss: 0.9880824442952871 |Validation acc: 0.40896860986547084, Validation loss: 0.19398585986346006\n",
            "Epoch 5: Train acc: 0.8244072293152048, Train loss: 0.9669720148667693 |Validation acc: 0.7354260089686099, Validation loss: 0.19022422283887863\n",
            "Epoch 6: Train acc: 0.9224009285358978, Train loss: 0.9320580344647169 |Validation acc: 0.9004484304932735, Validation loss: 0.18393931072205305\n",
            "Epoch 7: Train acc: 0.8973636212900017, Train loss: 0.8652003668248653 |Validation acc: 0.8251121076233184, Validation loss: 0.1789157958701253\n",
            "Epoch 8: Train acc: 0.7768197645498259, Train loss: 0.7383501119911671 |Validation acc: 0.9408071748878923, Validation loss: 0.10907230153679848\n",
            "Epoch 9: Train acc: 0.918918918918919, Train loss: 0.6176516504492611 |Validation acc: 0.8834080717488789, Validation loss: 0.1368438033387065\n",
            "Epoch 10: Train acc: 0.9008456309069806, Train loss: 0.5489913125056773 |Validation acc: 0.9551569506726457, Validation loss: 0.09055834379978478\n",
            "Epoch 11: Train acc: 0.9381528768031836, Train loss: 0.49864875501953065 |Validation acc: 0.9264573991031391, Validation loss: 0.10506716510280967\n",
            "Epoch 12: Train acc: 0.9096335599403084, Train loss: 0.44787572568748146 |Validation acc: 0.957847533632287, Validation loss: 0.07207640958949924\n",
            "Epoch 13: Train acc: 0.9442878461283369, Train loss: 0.402255124761723 |Validation acc: 0.9390134529147982, Validation loss: 0.0817196590360254\n",
            "Epoch 14: Train acc: 0.9393135466755098, Train loss: 0.3673892208025791 |Validation acc: 0.9210762331838565, Validation loss: 0.08598428266122937\n",
            "Epoch 15: Train acc: 0.9499253855082076, Train loss: 0.3274520633276552 |Validation acc: 0.9345291479820628, Validation loss: 0.07123530423268676\n",
            "Epoch 16: Train acc: 0.9485989056541204, Train loss: 0.307408626365941 |Validation acc: 0.9174887892376682, Validation loss: 0.07725171162746847\n",
            "Epoch 17: Train acc: 0.9552313049245564, Train loss: 0.28425128251546994 |Validation acc: 0.9497757847533632, Validation loss: 0.05183747981209308\n",
            "Epoch 18: Train acc: 0.9500911954899685, Train loss: 0.2520232472452335 |Validation acc: 0.9147982062780269, Validation loss: 0.06922880723141134\n",
            "Epoch 19: Train acc: 0.9598739844138617, Train loss: 0.23955454427050427 |Validation acc: 0.9542600896860987, Validation loss: 0.04565349838230759\n",
            "Epoch 20: Train acc: 0.9482672856905986, Train loss: 0.2255514424177818 |Validation acc: 0.9704035874439462, Validation loss: 0.036664435639977455\n"
          ]
        }
      ]
    },
    {
      "cell_type": "code",
      "source": [
        "\"\"\"\n",
        "Close to 96%. Let's see what will change if we increase the learning rate\n",
        "\"\"\"\n",
        "batch_size = 64\n",
        "num_epoch = 20\n",
        "lr = 1e-3\n",
        "input_size = len(text_field.vocab.itos)\n",
        "model = RNN_max_mean(input_size, hidden_size=50)\n",
        "train_rnn(model, train, valid, batch_size, num_epoch, lr)\n",
        "model_path = f\"model_{model.name}_bs{batch_size}_lr{lr}_epoch{num_epoch-1}\""
      ],
      "metadata": {
        "id": "mY7UFKxz9VLu",
        "outputId": "99d0d1ae-ab31-486d-d763-6aed85e3a93f",
        "colab": {
          "base_uri": "https://localhost:8080/"
        }
      },
      "execution_count": 148,
      "outputs": [
        {
          "output_type": "stream",
          "name": "stdout",
          "text": [
            "Epoch 1: Train acc: 0.9427955562924888, Train loss: 0.976132863201201 |Validation acc: 0.9668161434977578, Validation loss: 0.1608650702983141\n",
            "Epoch 2: Train acc: 0.9495937655446858, Train loss: 0.6173789950553328 |Validation acc: 0.9641255605381166, Validation loss: 0.0849455171264708\n",
            "Epoch 3: Train acc: 0.9620295141767534, Train loss: 0.29999165213666856 |Validation acc: 0.9542600896860987, Validation loss: 0.05404380883555859\n",
            "Epoch 4: Train acc: 0.9646824738849279, Train loss: 0.22249221138190478 |Validation acc: 0.957847533632287, Validation loss: 0.0432649131398648\n",
            "Epoch 5: Train acc: 0.9688277234289504, Train loss: 0.18222267981036566 |Validation acc: 0.9614349775784753, Validation loss: 0.0362344280583784\n",
            "Epoch 6: Train acc: 0.9716464931188857, Train loss: 0.1690166107728146 |Validation acc: 0.9623318385650225, Validation loss: 0.03672108275350183\n",
            "Epoch 7: Train acc: 0.9738020228817775, Train loss: 0.15128753551107366 |Validation acc: 0.9641255605381166, Validation loss: 0.03152047176263295\n",
            "Epoch 8: Train acc: 0.9716464931188857, Train loss: 0.1372168719972251 |Validation acc: 0.9721973094170404, Validation loss: 0.02479198412038386\n",
            "Epoch 9: Train acc: 0.9774498424805174, Train loss: 0.13832597825239645 |Validation acc: 0.9632286995515695, Validation loss: 0.03591208631405607\n",
            "Epoch 10: Train acc: 0.9791079422981264, Train loss: 0.11749382609559689 |Validation acc: 0.967713004484305, Validation loss: 0.02802823987440206\n",
            "Epoch 11: Train acc: 0.9754601226993865, Train loss: 0.10395680654619355 |Validation acc: 0.9739910313901345, Validation loss: 0.021548816206632182\n",
            "Epoch 12: Train acc: 0.979605372243409, Train loss: 0.09950489595939871 |Validation acc: 0.9739910313901345, Validation loss: 0.022393258928786963\n",
            "Epoch 13: Train acc: 0.9837506217874316, Train loss: 0.0879617251266609 |Validation acc: 0.9713004484304932, Validation loss: 0.024925893114414066\n",
            "Epoch 14: Train acc: 0.9893881611673023, Train loss: 0.07308357240981422 |Validation acc: 0.9659192825112107, Validation loss: 0.033304039636277594\n",
            "Epoch 15: Train acc: 0.9928701707842812, Train loss: 0.06776520146377152 |Validation acc: 0.9650224215246637, Validation loss: 0.029995708959177136\n",
            "Epoch 16: Train acc: 0.9936992206930857, Train loss: 0.054837229719851166 |Validation acc: 0.9713004484304932, Validation loss: 0.024752207507845014\n",
            "Epoch 17: Train acc: 0.9945282706018902, Train loss: 0.04783140877043479 |Validation acc: 0.9695067264573991, Validation loss: 0.02368315222338424\n",
            "Epoch 18: Train acc: 0.9504228154534903, Train loss: 0.04627673659706488 |Validation acc: 0.9049327354260089, Validation loss: 0.07168584686587565\n",
            "Epoch 19: Train acc: 0.9854087216050407, Train loss: 0.12100954141351394 |Validation acc: 0.9713004484304932, Validation loss: 0.021785681557958014\n",
            "Epoch 20: Train acc: 0.9922069308572377, Train loss: 0.06085837500722846 |Validation acc: 0.9739910313901345, Validation loss: 0.019058232515817508\n"
          ]
        }
      ]
    },
    {
      "cell_type": "code",
      "source": [
        "\"\"\"\n",
        "97%. That's good. Let's increase the hidden unit size to 200 * 2 = 400\n",
        "\"\"\"\n",
        "batch_size = 64\n",
        "num_epoch = 20\n",
        "lr = 1e-3\n",
        "input_size = len(text_field.vocab.itos)\n",
        "model = RNN_max_mean(input_size, hidden_size=200)\n",
        "train_rnn(model, train, valid, batch_size, num_epoch, lr)\n",
        "model_path = f\"model_{model.name}_bs{batch_size}_lr{lr}_epoch{num_epoch-1}\""
      ],
      "metadata": {
        "id": "spZwh6qs_L8W",
        "outputId": "c7d2c98c-4c1e-4bf7-c053-471c1534d298",
        "colab": {
          "base_uri": "https://localhost:8080/"
        }
      },
      "execution_count": 149,
      "outputs": [
        {
          "output_type": "stream",
          "name": "stdout",
          "text": [
            "Epoch 1: Train acc: 0.9439562261648151, Train loss: 0.866447587730363 |Validation acc: 0.9650224215246637, Validation loss: 0.08668756252154708\n",
            "Epoch 2: Train acc: 0.9607030343226662, Train loss: 0.3179293039429467 |Validation acc: 0.9641255605381166, Validation loss: 0.04332441627047956\n",
            "Epoch 3: Train acc: 0.9686619134471895, Train loss: 0.19967468675167765 |Validation acc: 0.9632286995515695, Validation loss: 0.03815655061043799\n",
            "Epoch 4: Train acc: 0.9688277234289504, Train loss: 0.1878519561869325 |Validation acc: 0.9668161434977578, Validation loss: 0.0323665167670697\n",
            "Epoch 5: Train acc: 0.9658431437572542, Train loss: 0.15413100812293123 |Validation acc: 0.9587443946188341, Validation loss: 0.04349561658455059\n",
            "Epoch 6: Train acc: 0.9820925219698226, Train loss: 0.14536279303138144 |Validation acc: 0.9739910313901345, Validation loss: 0.02339076268253848\n",
            "Epoch 7: Train acc: 0.9767866025534737, Train loss: 0.12653115641296608 |Validation acc: 0.9757847533632287, Validation loss: 0.021089892543386668\n",
            "Epoch 8: Train acc: 0.9854087216050407, Train loss: 0.10494920667406404 |Validation acc: 0.979372197309417, Validation loss: 0.01764954489772208\n",
            "Epoch 9: Train acc: 0.9855745315868015, Train loss: 0.08303707695449702 |Validation acc: 0.979372197309417, Validation loss: 0.0179968415905023\n",
            "Epoch 10: Train acc: 0.995025700547173, Train loss: 0.06139916499887477 |Validation acc: 0.9820627802690582, Validation loss: 0.017903641335578868\n",
            "Epoch 11: Train acc: 0.9752943127176256, Train loss: 0.05027893985698029 |Validation acc: 0.9542600896860987, Validation loss: 0.041214856115402654\n",
            "Epoch 12: Train acc: 0.9903830210578677, Train loss: 0.0979749880707459 |Validation acc: 0.9757847533632287, Validation loss: 0.023515676148235798\n",
            "Epoch 13: Train acc: 0.9943624606201293, Train loss: 0.04122867266960384 |Validation acc: 0.9802690582959641, Validation loss: 0.01844654415072\n",
            "Epoch 14: Train acc: 0.9902172110761068, Train loss: 0.037330345046029834 |Validation acc: 0.9748878923766816, Validation loss: 0.02278551007475471\n",
            "Epoch 15: Train acc: 0.9852429116232797, Train loss: 0.03970143180413288 |Validation acc: 0.9650224215246637, Validation loss: 0.02932890097144991\n",
            "Epoch 16: Train acc: 0.9990051401094346, Train loss: 0.0359134805676149 |Validation acc: 0.9820627802690582, Validation loss: 0.017123571669799276\n",
            "Epoch 17: Train acc: 0.9993367600729564, Train loss: 0.016218067054978746 |Validation acc: 0.9820627802690582, Validation loss: 0.019701751204593165\n",
            "Epoch 18: Train acc: 0.9749626927541037, Train loss: 0.015728823876543174 |Validation acc: 0.9479820627802691, Validation loss: 0.03998190891434206\n",
            "Epoch 19: Train acc: 0.9980102802188692, Train loss: 0.04169753190217307 |Validation acc: 0.9802690582959641, Validation loss: 0.020467025889047363\n",
            "Epoch 20: Train acc: 0.9827557618968662, Train loss: 0.057498339469930215 |Validation acc: 0.9766816143497757, Validation loss: 0.022477956639704644\n"
          ]
        }
      ]
    },
    {
      "cell_type": "code",
      "source": [
        "\"\"\"\n",
        "98%. Let's increase the learning rate again to see if it changes anything\n",
        "\"\"\"\n",
        "batch_size = 64\n",
        "num_epoch = 20\n",
        "lr = 2e-3\n",
        "input_size = len(text_field.vocab.itos)\n",
        "model = RNN_max_mean(input_size, hidden_size=200)\n",
        "train_rnn(model, train, valid, batch_size, num_epoch, lr)\n",
        "model_path = f\"model_{model.name}_bs{batch_size}_lr{lr}_epoch{num_epoch-1}\""
      ],
      "metadata": {
        "id": "8ignXwB6AVVi",
        "outputId": "b6346369-7be8-4f1d-d52f-37881593124e",
        "colab": {
          "base_uri": "https://localhost:8080/"
        }
      },
      "execution_count": 151,
      "outputs": [
        {
          "output_type": "stream",
          "name": "stdout",
          "text": [
            "Epoch 1: Train acc: 0.5232963024374068, Train loss: 0.8523351661860943 |Validation acc: 0.13632286995515694, Validation loss: 0.273442261852324\n",
            "Epoch 2: Train acc: 0.9535732051069474, Train loss: 0.5088364820694551 |Validation acc: 0.95695067264574, Validation loss: 0.04275766882346943\n",
            "Epoch 3: Train acc: 0.9645166639031669, Train loss: 0.19889541156589985 |Validation acc: 0.9542600896860987, Validation loss: 0.04187947098398581\n",
            "Epoch 4: Train acc: 0.9701542032830376, Train loss: 0.17138990623061545 |Validation acc: 0.9623318385650225, Validation loss: 0.03869117220165208\n",
            "Epoch 5: Train acc: 0.9754601226993865, Train loss: 0.14178155428089667 |Validation acc: 0.9623318385650225, Validation loss: 0.03266896348213777\n",
            "Epoch 6: Train acc: 0.9845796716962361, Train loss: 0.12319172903517028 |Validation acc: 0.9748878923766816, Validation loss: 0.026214053388684988\n",
            "Epoch 7: Train acc: 0.9570552147239264, Train loss: 0.12528028622909915 |Validation acc: 0.9695067264573991, Validation loss: 0.020785510569112375\n",
            "Epoch 8: Train acc: 0.9774498424805174, Train loss: 0.12686348630086286 |Validation acc: 0.9739910313901345, Validation loss: 0.018498274250305258\n",
            "Epoch 9: Train acc: 0.9850771016415188, Train loss: 0.11164218642079504 |Validation acc: 0.9829596412556054, Validation loss: 0.019222274742787704\n",
            "Epoch 10: Train acc: 0.9930359807660422, Train loss: 0.08044076780061005 |Validation acc: 0.9766816143497757, Validation loss: 0.017927130924363155\n",
            "Epoch 11: Train acc: 0.9878958713314542, Train loss: 0.05477472033817321 |Validation acc: 0.9802690582959641, Validation loss: 0.01725927997904364\n",
            "Epoch 12: Train acc: 0.9529099651799038, Train loss: 0.05631441007244575 |Validation acc: 0.9766816143497757, Validation loss: 0.02113903991994448\n",
            "Epoch 13: Train acc: 0.5329132813795391, Train loss: 0.2548255513320328 |Validation acc: 0.15964125560538117, Validation loss: 0.5115653369575739\n",
            "Epoch 14: Train acc: 0.74448681810645, Train loss: 1.5305521514965221 |Validation acc: 0.6681614349775785, Validation loss: 0.18577912030741572\n",
            "Epoch 15: Train acc: 0.5199801028021886, Train loss: 1.4114782077958807 |Validation acc: 0.13452914798206278, Validation loss: 0.3452872410416603\n",
            "Epoch 16: Train acc: 0.4800198971978113, Train loss: 1.1056653130799532 |Validation acc: 0.8654708520179372, Validation loss: 0.11879062931984663\n",
            "Epoch 17: Train acc: 0.5670701376222849, Train loss: 1.2479017544537783 |Validation acc: 0.8834080717488789, Validation loss: 0.12859189929440618\n",
            "Epoch 18: Train acc: 0.7637207759907146, Train loss: 0.7784957163967192 |Validation acc: 0.6071748878923767, Validation loss: 0.19795712575432844\n",
            "Epoch 19: Train acc: 0.6919250538882441, Train loss: 0.8327868975466117 |Validation acc: 0.442152466367713, Validation loss: 0.234900392126292\n",
            "Epoch 20: Train acc: 0.6625766871165644, Train loss: 1.894152170525627 |Validation acc: 0.42869955156950673, Validation loss: 0.32356212567538023\n"
          ]
        }
      ]
    },
    {
      "cell_type": "code",
      "source": [
        "\"\"\"\n",
        "98%, but quickly became overfit. I think let's increase the hidden size again to 400 * 2 = 800 to see if it changes anything\n",
        "\"\"\"\n",
        "batch_size = 64\n",
        "num_epoch = 20\n",
        "lr = 1e-3\n",
        "input_size = len(text_field.vocab.itos)\n",
        "model = RNN_max_mean(input_size, hidden_size=400)\n",
        "train_rnn(model, train, valid, batch_size, num_epoch, lr)\n",
        "model_path = f\"model_{model.name}_bs{batch_size}_lr{lr}_epoch{num_epoch-1}\""
      ],
      "metadata": {
        "id": "eyQc7jxrBpSQ",
        "outputId": "88ba20a2-fada-4871-a50b-d2121f903f77",
        "colab": {
          "base_uri": "https://localhost:8080/"
        }
      },
      "execution_count": 152,
      "outputs": [
        {
          "output_type": "stream",
          "name": "stdout",
          "text": [
            "Epoch 1: Train acc: 0.949262145581164, Train loss: 0.7353121382184327 |Validation acc: 0.9605381165919282, Validation loss: 0.09706085454672575\n",
            "Epoch 2: Train acc: 0.9572210247056873, Train loss: 0.2980744623055216 |Validation acc: 0.967713004484305, Validation loss: 0.033334149280563\n",
            "Epoch 3: Train acc: 0.9670038136295805, Train loss: 0.18737467085884418 |Validation acc: 0.9668161434977578, Validation loss: 0.027989601832814515\n",
            "Epoch 4: Train acc: 0.9724755430276902, Train loss: 0.16586785577237606 |Validation acc: 0.9650224215246637, Validation loss: 0.029002820258028805\n",
            "Epoch 5: Train acc: 0.9789421323163654, Train loss: 0.13275261468515964 |Validation acc: 0.9713004484304932, Validation loss: 0.026639192481525242\n",
            "Epoch 6: Train acc: 0.982921571878627, Train loss: 0.12784927918983158 |Validation acc: 0.9713004484304932, Validation loss: 0.022919609386008233\n",
            "Epoch 7: Train acc: 0.9442878461283369, Train loss: 0.3309761366908788 |Validation acc: 0.9739910313901345, Validation loss: 0.024450520861137193\n",
            "Epoch 8: Train acc: 0.9449510860553806, Train loss: 0.4300805204693461 |Validation acc: 0.968609865470852, Validation loss: 0.044321842258796096\n",
            "Epoch 9: Train acc: 0.9404742165478361, Train loss: 0.34417238796595484 |Validation acc: 0.9695067264573991, Validation loss: 0.07109891704749316\n",
            "Epoch 10: Train acc: 0.6093516829713149, Train loss: 1.082033695303835 |Validation acc: 0.2896860986547085, Validation loss: 0.38386142905801535\n",
            "Epoch 11: Train acc: 0.6013928038467916, Train loss: 0.8785875977482647 |Validation acc: 0.8860986547085202, Validation loss: 0.08402212959481403\n",
            "Epoch 12: Train acc: 0.7146410213894876, Train loss: 0.9057863657362759 |Validation acc: 0.5040358744394619, Validation loss: 0.230379824526608\n",
            "Epoch 13: Train acc: 0.6645664068976952, Train loss: 0.8909797365777194 |Validation acc: 0.8618834080717489, Validation loss: 0.09224213950801641\n",
            "Epoch 14: Train acc: 0.7587464765378876, Train loss: 0.8710791018093005 |Validation acc: 0.5937219730941704, Validation loss: 0.19446768378838897\n",
            "Epoch 15: Train acc: 0.5199801028021886, Train loss: 0.9950072126812302 |Validation acc: 0.13452914798206278, Validation loss: 0.5086669912561774\n",
            "Epoch 16: Train acc: 0.7436577681976455, Train loss: 1.1059707227395847 |Validation acc: 0.6878923766816144, Validation loss: 0.16490163654088974\n",
            "Epoch 17: Train acc: 0.7317194495108605, Train loss: 1.250649766647257 |Validation acc: 0.684304932735426, Validation loss: 0.16843616915866733\n",
            "Epoch 18: Train acc: 0.7091692919913779, Train loss: 0.8506306121125817 |Validation acc: 0.5013452914798207, Validation loss: 0.22774806432425976\n",
            "Epoch 19: Train acc: 0.6781628254020892, Train loss: 1.0001587027218193 |Validation acc: 0.4618834080717489, Validation loss: 0.24507731292396784\n",
            "Epoch 20: Train acc: 0.7181230310064666, Train loss: 0.8691659295000136 |Validation acc: 0.8080717488789237, Validation loss: 0.13780390843749046\n"
          ]
        }
      ]
    },
    {
      "cell_type": "code",
      "source": [
        "\"\"\"\n",
        "Ok not too much better with more hidden size. Let's train the best model one last time\n",
        "\"\"\"\n",
        "batch_size = 64\n",
        "num_epoch = 20\n",
        "lr = 1e-3\n",
        "input_size = len(text_field.vocab.itos)\n",
        "model = RNN_max_mean(input_size, hidden_size=200)\n",
        "train_rnn(model, train, valid, batch_size, num_epoch, lr)\n",
        "model_path = f\"model_{model.name}_bs{batch_size}_lr{lr}_epoch{num_epoch-1}\""
      ],
      "metadata": {
        "id": "5hTAH7A4DKrO",
        "outputId": "7f9420ce-462c-4bec-c0e3-8af5397c95ae",
        "colab": {
          "base_uri": "https://localhost:8080/"
        }
      },
      "execution_count": 159,
      "outputs": [
        {
          "output_type": "stream",
          "name": "stdout",
          "text": [
            "Epoch 1: Train acc: 0.9439562261648151, Train loss: 0.866447587730363 |Validation acc: 0.9650224215246637, Validation loss: 0.08668756252154708\n",
            "Epoch 2: Train acc: 0.9607030343226662, Train loss: 0.3179293039429467 |Validation acc: 0.9641255605381166, Validation loss: 0.04332441627047956\n",
            "Epoch 3: Train acc: 0.9686619134471895, Train loss: 0.19967468675167765 |Validation acc: 0.9632286995515695, Validation loss: 0.03815655061043799\n",
            "Epoch 4: Train acc: 0.9688277234289504, Train loss: 0.1878519561869325 |Validation acc: 0.9668161434977578, Validation loss: 0.0323665167670697\n",
            "Epoch 5: Train acc: 0.9658431437572542, Train loss: 0.15413100812293123 |Validation acc: 0.9587443946188341, Validation loss: 0.04349561658455059\n",
            "Epoch 6: Train acc: 0.9820925219698226, Train loss: 0.14536279303138144 |Validation acc: 0.9739910313901345, Validation loss: 0.02339076268253848\n",
            "Epoch 7: Train acc: 0.9767866025534737, Train loss: 0.12653115641296608 |Validation acc: 0.9757847533632287, Validation loss: 0.021089892543386668\n",
            "Epoch 8: Train acc: 0.9854087216050407, Train loss: 0.10494920667406404 |Validation acc: 0.979372197309417, Validation loss: 0.01764954489772208\n",
            "Epoch 9: Train acc: 0.9855745315868015, Train loss: 0.08303707695449702 |Validation acc: 0.979372197309417, Validation loss: 0.0179968415905023\n",
            "Epoch 10: Train acc: 0.995025700547173, Train loss: 0.06139916499887477 |Validation acc: 0.9820627802690582, Validation loss: 0.017903641335578868\n",
            "Epoch 11: Train acc: 0.9752943127176256, Train loss: 0.05027893985698029 |Validation acc: 0.9542600896860987, Validation loss: 0.041214856115402654\n",
            "Epoch 12: Train acc: 0.9903830210578677, Train loss: 0.0979749880707459 |Validation acc: 0.9757847533632287, Validation loss: 0.023515676148235798\n",
            "Epoch 13: Train acc: 0.9943624606201293, Train loss: 0.04122867266960384 |Validation acc: 0.9802690582959641, Validation loss: 0.01844654415072\n",
            "Epoch 14: Train acc: 0.9902172110761068, Train loss: 0.037330345046029834 |Validation acc: 0.9748878923766816, Validation loss: 0.02278551007475471\n",
            "Epoch 15: Train acc: 0.9852429116232797, Train loss: 0.03970143180413288 |Validation acc: 0.9650224215246637, Validation loss: 0.02932890097144991\n",
            "Epoch 16: Train acc: 0.9990051401094346, Train loss: 0.0359134805676149 |Validation acc: 0.9820627802690582, Validation loss: 0.017123571669799276\n",
            "Epoch 17: Train acc: 0.9993367600729564, Train loss: 0.016218067054978746 |Validation acc: 0.9820627802690582, Validation loss: 0.019701751204593165\n",
            "Epoch 18: Train acc: 0.9749626927541037, Train loss: 0.015728823876543174 |Validation acc: 0.9479820627802691, Validation loss: 0.03998190891434206\n",
            "Epoch 19: Train acc: 0.9980102802188692, Train loss: 0.04169753190217307 |Validation acc: 0.9802690582959641, Validation loss: 0.020467025889047363\n",
            "Epoch 20: Train acc: 0.9827557618968662, Train loss: 0.057498339469930215 |Validation acc: 0.9766816143497757, Validation loss: 0.022477956639704644\n"
          ]
        }
      ]
    },
    {
      "cell_type": "markdown",
      "metadata": {
        "id": "v7DY56rKa91I"
      },
      "source": [
        "### Part (d) [2 pt]\n",
        "\n",
        "Before we deploy a machine learning model, we usually want to have a better understanding\n",
        "of how our model performs beyond its validation accuracy. An important metric to track is\n",
        "*how well our model performs in certain subsets of the data*.\n",
        "\n",
        "In particular, what is the model's error rate amongst data with negative labels?\n",
        "This is called the **false positive rate**.\n",
        "\n",
        "What about the model's error rate amongst data with positive labels?\n",
        "This is called the **false negative rate**.\n",
        "\n",
        "Report your final model's false positive and false negative rate across the\n",
        "validation set."
      ]
    },
    {
      "cell_type": "code",
      "execution_count": 163,
      "metadata": {
        "colab": {
          "base_uri": "https://localhost:8080/"
        },
        "collapsed": true,
        "id": "7ggbQSdba91J",
        "jupyter": {
          "outputs_hidden": true
        },
        "outputId": "b3845033-8425-4fb9-dfc8-da038f50e291"
      },
      "outputs": [
        {
          "output_type": "stream",
          "name": "stdout",
          "text": [
            "False positive: 4.67%\n",
            "False negative: 4.66%\n"
          ]
        }
      ],
      "source": [
        "# Create a Dataset of only spam validation examples\n",
        "valid_spam = torchtext.data.Dataset(\n",
        "    [e for e in valid.examples if e.label == 1],\n",
        "    valid.fields)\n",
        "\n",
        "valid_spam_data_loader = torchtext.data.BucketIterator(valid_spam,\n",
        "                                           batch_size=batch_size,\n",
        "                                           sort_key=lambda x: len(x.sms),\n",
        "                                           sort_within_batch=True,\n",
        "                                           repeat=False)\n",
        "# Create a Dataset of only non-spam validation examples\n",
        "valid_nospam = torchtext.data.Dataset(\n",
        "    [e for e in valid.examples if e.label == 0],\n",
        "    valid.fields)\n",
        "valid_nospam_data_loader = torchtext.data.BucketIterator(valid_nospam,\n",
        "                                           batch_size=batch_size,\n",
        "                                           sort_key=lambda x: len(x.sms),\n",
        "                                           sort_within_batch=True,\n",
        "                                           repeat=False)\n",
        "best_model = RNN_max_mean(input_size, 200)\n",
        "best_model_path = \"./models/\"+ f\"model_{model.name}_bs{batch_size}_lr{lr}_epoch{10}\"\n",
        "state = torch.load(best_model_path)\n",
        "best_model.load_state_dict(state)\n",
        "\n",
        "# false positive rate\n",
        "fp_rate = 1 - get_accuracy(best_model, valid_spam_data_loader)\n",
        "# false negative rate\n",
        "fn_rate = 1 - get_accuracy(best_model, valid_nospam_data_loader)\n",
        "\n",
        "print(f\"False positive: {100 * fp_rate:.02f}%\")\n",
        "print(f\"False negative: {100* fn_rate:.02f}%\")"
      ]
    },
    {
      "cell_type": "markdown",
      "metadata": {
        "id": "N1iRteb3a91O"
      },
      "source": [
        "### Part (e) [2 pt]\n",
        "\n",
        "The impact of a false positive vs a false negative can be drastically different.\n",
        "If our spam detection algorithm was deployed on your phone, what is the impact\n",
        "of a false positive on the phone's user? What is the impact of a false negative?"
      ]
    },
    {
      "cell_type": "markdown",
      "source": [
        "**Answer**\n",
        "\n",
        "False positive for spam detection means a non-spam message labeled as spam. The impact would be that legitimate messages gets labelled as spam, and we miss messages from friends and family.\n",
        "\n",
        "False negative for spam detection means a spam message labeled as non-spam. The impact would be that we receive these mislabelled spam messages"
      ],
      "metadata": {
        "id": "be8TAVTRG-xR"
      }
    },
    {
      "cell_type": "markdown",
      "metadata": {
        "id": "Gznefulsa91V"
      },
      "source": [
        "## Part 4. Evaluation [11 pt]\n",
        "\n",
        "### Part (a) [1 pt]\n",
        "\n",
        "Report the final test accuracy of your model."
      ]
    },
    {
      "cell_type": "code",
      "execution_count": 162,
      "metadata": {
        "colab": {
          "base_uri": "https://localhost:8080/"
        },
        "collapsed": true,
        "id": "D5L5D-A1a91W",
        "jupyter": {
          "outputs_hidden": true
        },
        "outputId": "e26e629b-a4a6-4623-ee45-456a8b90a3f6"
      },
      "outputs": [
        {
          "output_type": "stream",
          "name": "stdout",
          "text": [
            "test accuracy: 98.03%\n"
          ]
        }
      ],
      "source": [
        "best_model = RNN_max_mean(input_size, 200)\n",
        "best_model_path = \"./models/\"+ f\"model_{model.name}_bs{batch_size}_lr{lr}_epoch{10}\"\n",
        "state = torch.load(best_model_path)\n",
        "best_model.load_state_dict(state)\n",
        "test_data_loader = torchtext.data.BucketIterator(test,\n",
        "                                           batch_size=batch_size,\n",
        "                                           sort_key=lambda x: len(x.sms),\n",
        "                                           sort_within_batch=True,\n",
        "                                           repeat=False)\n",
        "test_accuracy = get_accuracy(model, test_data_loader)\n",
        "print(f\"test accuracy: {100 * test_accuracy:.02f}%\")"
      ]
    },
    {
      "cell_type": "markdown",
      "metadata": {
        "id": "6Hjmd8rca91Y"
      },
      "source": [
        "### Part (b) [3 pt]\n",
        "\n",
        "Report the false positive rate and false negative rate of your model across the test set."
      ]
    },
    {
      "cell_type": "code",
      "execution_count": 164,
      "metadata": {
        "colab": {
          "base_uri": "https://localhost:8080/"
        },
        "collapsed": true,
        "id": "GFiAKztJa91Z",
        "jupyter": {
          "outputs_hidden": true
        },
        "outputId": "c90ce764-3ad7-49cd-c2ff-4eaf12a4e8ba"
      },
      "outputs": [
        {
          "output_type": "stream",
          "name": "stdout",
          "text": [
            "False positive: 4.67%\n",
            "False negative: 4.56%\n"
          ]
        }
      ],
      "source": [
        "# Create a Dataset of only spam test examples\n",
        "test_spam = torchtext.data.Dataset(\n",
        "    [e for e in test.examples if e.label == 1],\n",
        "    test.fields)\n",
        "\n",
        "test_spam_data_loader = torchtext.data.BucketIterator(test_spam,\n",
        "                                           batch_size=batch_size,\n",
        "                                           sort_key=lambda x: len(x.sms),\n",
        "                                           sort_within_batch=True,\n",
        "                                           repeat=False)\n",
        "# Create a Dataset of only non-spam test examples\n",
        "test_nospam = torchtext.data.Dataset(\n",
        "    [e for e in test.examples if e.label == 0],\n",
        "    test.fields)\n",
        "test_nospam_data_loader = torchtext.data.BucketIterator(test_nospam,\n",
        "                                           batch_size=batch_size,\n",
        "                                           sort_key=lambda x: len(x.sms),\n",
        "                                           sort_within_batch=True,\n",
        "                                           repeat=False)\n",
        "best_model = RNN_max_mean(input_size, 200)\n",
        "best_model_path = \"./models/\"+ f\"model_{model.name}_bs{batch_size}_lr{lr}_epoch{10}\"\n",
        "state = torch.load(best_model_path)\n",
        "best_model.load_state_dict(state)\n",
        "\n",
        "# false positive rate\n",
        "fp_rate = 1 - get_accuracy(best_model, valid_spam_data_loader)\n",
        "# false negative rate\n",
        "fn_rate = 1 - get_accuracy(best_model, valid_nospam_data_loader)\n",
        "\n",
        "print(f\"False positive: {100 * fp_rate:.02f}%\")\n",
        "print(f\"False negative: {100* fn_rate:.02f}%\")"
      ]
    },
    {
      "cell_type": "markdown",
      "metadata": {
        "id": "0jGHtQFpa91b"
      },
      "source": [
        "### Part (c) [3 pt]\n",
        "\n",
        "What is your model's prediction of the **probability** that\n",
        "the SMS message \"machine learning is sooo cool!\" is spam?\n",
        "\n",
        "Hint: To begin, use `text_field.vocab.stoi` to look up the index\n",
        "of each character in the vocabulary."
      ]
    },
    {
      "cell_type": "code",
      "execution_count": 171,
      "metadata": {
        "colab": {
          "base_uri": "https://localhost:8080/"
        },
        "collapsed": true,
        "id": "h_2nSJq8a91b",
        "jupyter": {
          "outputs_hidden": true
        },
        "outputId": "5805e788-1d91-4c6a-a2e8-017325be8d44"
      },
      "outputs": [
        {
          "output_type": "stream",
          "name": "stdout",
          "text": [
            "defaultdict(<bound method Vocab._default_unk_index of <torchtext.vocab.Vocab object at 0x7deb378bda80>>, {'<unk>': 0, '<pad>': 1, ' ': 2, 'e': 3, 'o': 4, 't': 5, 'a': 6, 'n': 7, 'r': 8, 'i': 9, 's': 10, 'l': 11, 'u': 12, 'h': 13, '0': 14, 'd': 15, 'm': 16, '.': 17, 'c': 18, 'y': 19, 'w': 20, 'p': 21, 'g': 22, '1': 23, 'f': 24, 'b': 25, '2': 26, '8': 27, 'T': 28, 'k': 29, 'E': 30, '5': 31, 'v': 32, 'C': 33, 'S': 34, 'I': 35, 'O': 36, '4': 37, 'N': 38, '7': 39, 'x': 40, '6': 41, '3': 42, 'A': 43, '!': 44, 'R': 45, ',': 46, '9': 47, 'P': 48, 'W': 49, 'M': 50, 'U': 51, 'L': 52, 'H': 53, 'B': 54, 'D': 55, 'G': 56, 'F': 57, '/': 58, \"'\": 59, '?': 60, 'Y': 61, '£': 62, '-': 63, '&': 64, ':': 65, 'X': 66, 'V': 67, 'z': 68, '*': 69, 'j': 70, 'K': 71, 'J': 72, ')': 73, ';': 74, '+': 75, '(': 76, 'Q': 77, 'q': 78, '\"': 79, '#': 80, '>': 81, '@': 82, '=': 83, 'Z': 84, 'ü': 85, 'Ü': 86, '$': 87, '\\x92': 88, '‘': 89, '<': 90, '_': 91, '%': 92, '|': 93, '\\x93': 94, '…': 95, '’': 96, '[': 97, ']': 98, '–': 99, '“': 100, '\\x94': 101, '~': 102, '\\x96': 103, '\\\\': 104, '\\x91': 105, '»': 106, 'è': 107, '—': 108, '\\n': 0, '\\t': 0, '^': 0, '¡': 0, 'ú': 0, 'é': 0, 'É': 0, 'ì': 0, '鈥': 0, '┾': 0, '〨': 0})\n",
            "[16, 6, 18, 13, 9, 7, 3, 2, 11, 3, 6, 8, 7, 9, 7, 22, 2, 9, 10, 2, 10, 4, 4, 4, 2, 18, 4, 4, 11, 44]\n",
            "Spam probability: 62.78%\n"
          ]
        }
      ],
      "source": [
        "msg = \"machine learning is sooo cool!\"\n",
        "print(text_field.vocab.stoi)\n",
        "msg_list = []\n",
        "for c in msg:\n",
        "    msg_list.append(text_field.vocab.stoi[c])\n",
        "print(msg_list) # representation of the msg\n",
        "\n",
        "tensor_msg = torch.LongTensor([msg_list])\n",
        "pred = best_model(tensor_msg)\n",
        "prob_of_spam = np.exp(float(pred[0][1])) / (np.exp(float(pred[0][0])) + np.exp(float(pred[0][1])))\n",
        "print(f\"Spam probability: {100*prob_of_spam:.02f}%\")"
      ]
    },
    {
      "cell_type": "markdown",
      "metadata": {
        "id": "QD1zgYJpa91f"
      },
      "source": [
        "### Part (d) [4 pt]\n",
        "\n",
        "Do you think detecting spam is an easy or difficult task?\n",
        "\n",
        "Since machine learning models are expensive to train and deploy, it is very\n",
        "important to compare our models against baseline models: a simple\n",
        "model that is easy to build and inexpensive to run that we can compare our\n",
        "recurrent neural network model against.\n",
        "\n",
        "Explain how you might build a simple baseline model. This baseline model\n",
        "can be a simple neural network (with very few weights), a hand-written algorithm,\n",
        "or any other strategy that is easy to build and test.\n",
        "\n",
        "**Do not actually build a baseline model. Instead, provide instructions on\n",
        "how to build it.**"
      ]
    },
    {
      "cell_type": "markdown",
      "source": [
        "**Answer**\n",
        "\n",
        "It is not an easy task. Even though our model achieve 98% accuracy, the false positive and false negative rates are still pretty high at above 5%. Ideally the spam algorithm will achieve high accuracy and have very low false negative rates in order to filter out huge amounts of spam text that one can be subjected to.\n",
        "\n",
        "Proposed baseline model:\n",
        "- naive bayes classification\n",
        "- calculate the probability of each word appearing in spam and non-spam respectively\n",
        "- the model takes in an email, and finds the probability of belonging in either categories using the word probabilities.\n",
        "- if the email's spam probability is sufficiently high, it will be marked as spam."
      ],
      "metadata": {
        "id": "EwYN1CioKz1U"
      }
    },
    {
      "cell_type": "code",
      "execution_count": null,
      "metadata": {
        "collapsed": true,
        "id": "LTndp-IOa91g",
        "jupyter": {
          "outputs_hidden": true
        }
      },
      "outputs": [],
      "source": []
    }
  ],
  "metadata": {
    "colab": {
      "name": "Lab 5 - Spam Detection.ipynb",
      "provenance": []
    },
    "kernelspec": {
      "display_name": "Python 3 (ipykernel)",
      "language": "python",
      "name": "python3"
    },
    "language_info": {
      "codemirror_mode": {
        "name": "ipython",
        "version": 3
      },
      "file_extension": ".py",
      "mimetype": "text/x-python",
      "name": "python",
      "nbconvert_exporter": "python",
      "pygments_lexer": "ipython3",
      "version": "3.9.4"
    }
  },
  "nbformat": 4,
  "nbformat_minor": 0
}