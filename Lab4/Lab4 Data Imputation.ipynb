{
 "cells": [
  {
   "attachments": {},
   "cell_type": "markdown",
   "metadata": {
    "colab_type": "text",
    "id": "OhtOdxzd1ppr"
   },
   "source": [
    "# Lab 4: Data Imputation using an Autoencoder\n",
    "\n",
    "\n",
    "In this lab, you will build and train an autoencoder to impute (or \"fill in\") missing data. \n",
    "\n",
    "We will be using the\n",
    "Adult Data Set provided by the UCI Machine Learning Repository [1], available \n",
    "at https://archive.ics.uci.edu/ml/datasets/adult.\n",
    "The data set contains census record files of adults, including their\n",
    "age, martial status, the type of work they do, and other features. \n",
    "\n",
    "Normally, people use this data set to build a supervised classification\n",
    "model to classify whether a person is a high income earner.\n",
    "We will not use the dataset for this original intended purpose.\n",
    "\n",
    "Instead, we will perform the task of imputing (or \"filling in\") missing values in the dataset. For example,\n",
    "we may be missing one person's martial status, and another person's age, and\n",
    "a third person's level of education. Our model will predict the missing features \n",
    "based on the information that we do have about each person.\n",
    "\n",
    "We will use a variation of a denoising autoencoder to solve this data imputation\n",
    "problem. Our autoencoder will be trained using inputs that have one categorical feature artificially\n",
    "removed, and the goal of the autoencoder is to correctly reconstruct all features,\n",
    "including the one removed from the input.\n",
    "\n",
    "In the process, you are expected to learn to:\n",
    "\n",
    "1. Clean and process continuous and categorical data for machine learning.\n",
    "2. Implement an autoencoder that takes continuous and categorical (one-hot) inputs.\n",
    "3. Tune the hyperparameters of an autoencoder.\n",
    "4. Use baseline models to help interpret model performance.\n",
    "\n",
    "[1] Dua, D. and Karra Taniskidou, E. (2017). UCI Machine Learning Repository [http://archive.ics.uci.edu/ml]. Irvine, CA: University of California, School of Information and Computer Science.\n",
    "\n",
    "\n",
    "### What to submit\n",
    "\n",
    "Submit a PDF file containing all your code, outputs, and write-up. You can produce a PDF of your Google Colab file by going to File > Print and then save as PDF. The Colab instructions have more information.\n",
    "\n",
    "Do not submit any other files produced by your code.\n",
    "\n",
    "Include a link to your colab file in your submission.\n"
   ]
  },
  {
   "attachments": {},
   "cell_type": "markdown",
   "metadata": {
    "colab_type": "text",
    "id": "zbnrp2ig1pps"
   },
   "source": [
    "## Colab Link\n",
    "\n",
    "Include a link to your Colab file here. If you would like the TA to look at your\n",
    "Colab file in case your solutions are cut off, **please make sure that your Colab\n",
    "file is publicly accessible at the time of submission**.\n",
    "\n",
    "Colab Link:"
   ]
  },
  {
   "cell_type": "code",
   "execution_count": 2,
   "metadata": {
    "colab": {},
    "colab_type": "code",
    "collapsed": true,
    "id": "z3p8N43E1ppt",
    "jupyter": {
     "outputs_hidden": true
    }
   },
   "outputs": [],
   "source": [
    "import csv\n",
    "import numpy as np\n",
    "import random\n",
    "import torch\n",
    "import torch.utils.data"
   ]
  },
  {
   "attachments": {},
   "cell_type": "markdown",
   "metadata": {
    "colab_type": "text",
    "id": "8ROwtHcz1ppx"
   },
   "source": [
    "## Part 0\n",
    "\n",
    "We will be using a package called `pandas` for this assignment. \n",
    "\n",
    "If you are using Colab, `pandas` should already be available.\n",
    "If you are using your own computer,\n",
    "installation instructions for `pandas` are available here: \n",
    "https://pandas.pydata.org/pandas-docs/stable/install.html"
   ]
  },
  {
   "cell_type": "code",
   "execution_count": 3,
   "metadata": {
    "colab": {},
    "colab_type": "code",
    "collapsed": true,
    "id": "IXQ7BP151ppz",
    "jupyter": {
     "outputs_hidden": true
    }
   },
   "outputs": [],
   "source": [
    "import pandas as pd"
   ]
  },
  {
   "attachments": {},
   "cell_type": "markdown",
   "metadata": {
    "colab_type": "text",
    "id": "hqXihb4Q1pp2"
   },
   "source": [
    "# Part 1. Data Cleaning [15 pt]\n",
    "\n",
    "The adult.data file is available at `https://archive.ics.uci.edu/ml/machine-learning-databases/adult/adult.data`\n",
    "\n",
    "The function `pd.read_csv` loads the adult.data file into a pandas dataframe.\n",
    "You can read about the pandas documentation for `pd.read_csv` at\n",
    "https://pandas.pydata.org/pandas-docs/stable/reference/api/pandas.read_csv.html"
   ]
  },
  {
   "cell_type": "code",
   "execution_count": 4,
   "metadata": {
    "colab": {},
    "colab_type": "code",
    "collapsed": true,
    "id": "EOMItFKn1pp3",
    "jupyter": {
     "outputs_hidden": true
    }
   },
   "outputs": [
    {
     "name": "stderr",
     "output_type": "stream",
     "text": [
      "C:\\Users\\Jack\\AppData\\Local\\Temp\\ipykernel_4044\\1831985018.py:3: ParserWarning: Length of header or names does not match length of data. This leads to a loss of data with index_col=False.\n",
      "  df = pd.read_csv(\n"
     ]
    }
   ],
   "source": [
    "header = ['age', 'work', 'fnlwgt', 'edu', 'yredu', 'marriage', 'occupation',\n",
    " 'relationship', 'race', 'sex', 'capgain', 'caploss', 'workhr', 'country']\n",
    "df = pd.read_csv(\n",
    "    \"https://archive.ics.uci.edu/ml/machine-learning-databases/adult/adult.data\",\n",
    "    names=header,\n",
    "    index_col=False)"
   ]
  },
  {
   "cell_type": "code",
   "execution_count": 5,
   "metadata": {
    "colab": {},
    "colab_type": "code",
    "id": "62Ot405q1pp5",
    "outputId": "c90e1be4-182d-4816-c20f-5d65fe414844",
    "scrolled": true
   },
   "outputs": [
    {
     "data": {
      "text/plain": [
       "(32561, 14)"
      ]
     },
     "execution_count": 5,
     "metadata": {},
     "output_type": "execute_result"
    }
   ],
   "source": [
    "df.shape # there are 32561 rows (records) in the data frame, and 14 columns (features)"
   ]
  },
  {
   "attachments": {},
   "cell_type": "markdown",
   "metadata": {
    "colab_type": "text",
    "id": "Tr7YG-QY1pp8"
   },
   "source": [
    "### Part (a) Continuous Features [3 pt]\n",
    "\n",
    "For each of the columns `[\"age\", \"yredu\", \"capgain\", \"caploss\", \"workhr\"]`, report the minimum, maximum, and average value across the dataset. \n",
    "\n",
    "Then, normalize each of the features `[\"age\", \"yredu\", \"capgain\", \"caploss\", \"workhr\"]`\n",
    "so that their values are always between 0 and 1.\n",
    "Make sure that you are actually modifying the dataframe `df`. \n",
    "\n",
    "Like numpy arrays and torch tensors, \n",
    "pandas data frames can be sliced. For example, we can\n",
    "display the first 3 rows of the data frame (3 records) below."
   ]
  },
  {
   "cell_type": "code",
   "execution_count": 6,
   "metadata": {
    "colab": {},
    "colab_type": "code",
    "id": "9evSLsSa1pp9",
    "outputId": "cd1c2aee-df56-4df1-df16-3247d929a7b3"
   },
   "outputs": [
    {
     "name": "stdout",
     "output_type": "stream",
     "text": [
      "     age  yredu  capgain  caploss  workhr\n",
      "min   17      1        0        0       1\n",
      "max   90     16    99999     4356      99\n"
     ]
    },
    {
     "data": {
      "text/html": [
       "<div>\n",
       "<style scoped>\n",
       "    .dataframe tbody tr th:only-of-type {\n",
       "        vertical-align: middle;\n",
       "    }\n",
       "\n",
       "    .dataframe tbody tr th {\n",
       "        vertical-align: top;\n",
       "    }\n",
       "\n",
       "    .dataframe thead th {\n",
       "        text-align: right;\n",
       "    }\n",
       "</style>\n",
       "<table border=\"1\" class=\"dataframe\">\n",
       "  <thead>\n",
       "    <tr style=\"text-align: right;\">\n",
       "      <th></th>\n",
       "      <th>age</th>\n",
       "      <th>work</th>\n",
       "      <th>fnlwgt</th>\n",
       "      <th>edu</th>\n",
       "      <th>yredu</th>\n",
       "      <th>marriage</th>\n",
       "      <th>occupation</th>\n",
       "      <th>relationship</th>\n",
       "      <th>race</th>\n",
       "      <th>sex</th>\n",
       "      <th>capgain</th>\n",
       "      <th>caploss</th>\n",
       "      <th>workhr</th>\n",
       "      <th>country</th>\n",
       "    </tr>\n",
       "  </thead>\n",
       "  <tbody>\n",
       "    <tr>\n",
       "      <th>0</th>\n",
       "      <td>0.301370</td>\n",
       "      <td>State-gov</td>\n",
       "      <td>77516</td>\n",
       "      <td>Bachelors</td>\n",
       "      <td>0.800000</td>\n",
       "      <td>Never-married</td>\n",
       "      <td>Adm-clerical</td>\n",
       "      <td>Not-in-family</td>\n",
       "      <td>White</td>\n",
       "      <td>Male</td>\n",
       "      <td>0.02174</td>\n",
       "      <td>0.0</td>\n",
       "      <td>0.397959</td>\n",
       "      <td>United-States</td>\n",
       "    </tr>\n",
       "    <tr>\n",
       "      <th>1</th>\n",
       "      <td>0.452055</td>\n",
       "      <td>Self-emp-not-inc</td>\n",
       "      <td>83311</td>\n",
       "      <td>Bachelors</td>\n",
       "      <td>0.800000</td>\n",
       "      <td>Married-civ-spouse</td>\n",
       "      <td>Exec-managerial</td>\n",
       "      <td>Husband</td>\n",
       "      <td>White</td>\n",
       "      <td>Male</td>\n",
       "      <td>0.00000</td>\n",
       "      <td>0.0</td>\n",
       "      <td>0.122449</td>\n",
       "      <td>United-States</td>\n",
       "    </tr>\n",
       "    <tr>\n",
       "      <th>2</th>\n",
       "      <td>0.287671</td>\n",
       "      <td>Private</td>\n",
       "      <td>215646</td>\n",
       "      <td>HS-grad</td>\n",
       "      <td>0.533333</td>\n",
       "      <td>Divorced</td>\n",
       "      <td>Handlers-cleaners</td>\n",
       "      <td>Not-in-family</td>\n",
       "      <td>White</td>\n",
       "      <td>Male</td>\n",
       "      <td>0.00000</td>\n",
       "      <td>0.0</td>\n",
       "      <td>0.397959</td>\n",
       "      <td>United-States</td>\n",
       "    </tr>\n",
       "  </tbody>\n",
       "</table>\n",
       "</div>"
      ],
      "text/plain": [
       "        age               work  fnlwgt         edu     yredu  \\\n",
       "0  0.301370          State-gov   77516   Bachelors  0.800000   \n",
       "1  0.452055   Self-emp-not-inc   83311   Bachelors  0.800000   \n",
       "2  0.287671            Private  215646     HS-grad  0.533333   \n",
       "\n",
       "              marriage          occupation    relationship    race    sex  \\\n",
       "0        Never-married        Adm-clerical   Not-in-family   White   Male   \n",
       "1   Married-civ-spouse     Exec-managerial         Husband   White   Male   \n",
       "2             Divorced   Handlers-cleaners   Not-in-family   White   Male   \n",
       "\n",
       "   capgain  caploss    workhr         country  \n",
       "0  0.02174      0.0  0.397959   United-States  \n",
       "1  0.00000      0.0  0.122449   United-States  \n",
       "2  0.00000      0.0  0.397959   United-States  "
      ]
     },
     "execution_count": 6,
     "metadata": {},
     "output_type": "execute_result"
    }
   ],
   "source": [
    "# minimum and maximum values for age, yredu, capgain, caploss and workhr\n",
    "min_max = df[['age', 'yredu', 'capgain', 'caploss', 'workhr']].agg([min, max])\n",
    "print(min_max)\n",
    "\n",
    "# normalize the data\n",
    "df[['age', 'yredu', 'capgain', 'caploss', 'workhr']] = df[['age', 'yredu', 'capgain', 'caploss', 'workhr']].apply(lambda x: (x - x.min()) / (x.max() - x.min()))\n",
    "df[:3] # show the first 3 records\n"
   ]
  },
  {
   "attachments": {},
   "cell_type": "markdown",
   "metadata": {
    "colab_type": "text",
    "id": "gBOojI6W1pqA"
   },
   "source": [
    "Alternatively, we can slice based on column names, \n",
    "for example `df[\"race\"]`, `df[\"hr\"]`, or even index multiple columns \n",
    "like below."
   ]
  },
  {
   "cell_type": "code",
   "execution_count": 7,
   "metadata": {
    "colab": {},
    "colab_type": "code",
    "id": "4v6pp73A1pqB",
    "outputId": "80c34c3c-4df7-414d-ffe4-9ff73b81b68a"
   },
   "outputs": [
    {
     "data": {
      "text/html": [
       "<div>\n",
       "<style scoped>\n",
       "    .dataframe tbody tr th:only-of-type {\n",
       "        vertical-align: middle;\n",
       "    }\n",
       "\n",
       "    .dataframe tbody tr th {\n",
       "        vertical-align: top;\n",
       "    }\n",
       "\n",
       "    .dataframe thead th {\n",
       "        text-align: right;\n",
       "    }\n",
       "</style>\n",
       "<table border=\"1\" class=\"dataframe\">\n",
       "  <thead>\n",
       "    <tr style=\"text-align: right;\">\n",
       "      <th></th>\n",
       "      <th>age</th>\n",
       "      <th>yredu</th>\n",
       "      <th>capgain</th>\n",
       "      <th>caploss</th>\n",
       "      <th>workhr</th>\n",
       "    </tr>\n",
       "  </thead>\n",
       "  <tbody>\n",
       "    <tr>\n",
       "      <th>0</th>\n",
       "      <td>0.301370</td>\n",
       "      <td>0.800000</td>\n",
       "      <td>0.02174</td>\n",
       "      <td>0.0</td>\n",
       "      <td>0.397959</td>\n",
       "    </tr>\n",
       "    <tr>\n",
       "      <th>1</th>\n",
       "      <td>0.452055</td>\n",
       "      <td>0.800000</td>\n",
       "      <td>0.00000</td>\n",
       "      <td>0.0</td>\n",
       "      <td>0.122449</td>\n",
       "    </tr>\n",
       "    <tr>\n",
       "      <th>2</th>\n",
       "      <td>0.287671</td>\n",
       "      <td>0.533333</td>\n",
       "      <td>0.00000</td>\n",
       "      <td>0.0</td>\n",
       "      <td>0.397959</td>\n",
       "    </tr>\n",
       "  </tbody>\n",
       "</table>\n",
       "</div>"
      ],
      "text/plain": [
       "        age     yredu  capgain  caploss    workhr\n",
       "0  0.301370  0.800000  0.02174      0.0  0.397959\n",
       "1  0.452055  0.800000  0.00000      0.0  0.122449\n",
       "2  0.287671  0.533333  0.00000      0.0  0.397959"
      ]
     },
     "execution_count": 7,
     "metadata": {},
     "output_type": "execute_result"
    }
   ],
   "source": [
    "subdf = df[[\"age\", \"yredu\", \"capgain\", \"caploss\", \"workhr\"]]\n",
    "subdf[:3] # show the first 3 records"
   ]
  },
  {
   "attachments": {},
   "cell_type": "markdown",
   "metadata": {
    "colab_type": "text",
    "id": "2Nru2P0E1pqD"
   },
   "source": [
    "Numpy works nicely with pandas, like below:"
   ]
  },
  {
   "cell_type": "code",
   "execution_count": 8,
   "metadata": {
    "colab": {},
    "colab_type": "code",
    "id": "JXrS6tjp1pqE",
    "outputId": "29ee3639-30ae-4533-cb73-7cddf4be82a6"
   },
   "outputs": [
    {
     "data": {
      "text/plain": [
       "652.5941230486685"
      ]
     },
     "execution_count": 8,
     "metadata": {},
     "output_type": "execute_result"
    }
   ],
   "source": [
    "np.sum(subdf[\"caploss\"])"
   ]
  },
  {
   "attachments": {},
   "cell_type": "markdown",
   "metadata": {
    "colab_type": "text",
    "id": "Mv5mbxDM1pqH"
   },
   "source": [
    "Just like numpy arrays, you can modify\n",
    "entire columns of data rather than one scalar element at a time.\n",
    "For example, the code  \n",
    "\n",
    "`df[\"age\"] = df[\"age\"] + 1` \n",
    "\n",
    "would increment everyone's age by 1."
   ]
  },
  {
   "cell_type": "code",
   "execution_count": null,
   "metadata": {
    "colab": {},
    "colab_type": "code",
    "collapsed": true,
    "id": "k5rlWD7-1pqH",
    "jupyter": {
     "outputs_hidden": true
    }
   },
   "outputs": [],
   "source": []
  },
  {
   "attachments": {},
   "cell_type": "markdown",
   "metadata": {
    "colab_type": "text",
    "id": "qbfMly4R1pqK"
   },
   "source": [
    "### Part (b) Categorical Features [1 pt]\n",
    "\n",
    "What percentage of people in our data set are male? Note that the data labels all have an unfortunate space in the beginning, e.g. \" Male\" instead of \"Male\".\n",
    "\n",
    "What percentage of people in our data set are female?"
   ]
  },
  {
   "cell_type": "code",
   "execution_count": 9,
   "metadata": {
    "colab": {},
    "colab_type": "code",
    "id": "DjAjcsB_1pqK",
    "outputId": "cd7201c3-007c-4fea-d955-4ce34ff808b6"
   },
   "outputs": [
    {
     "name": "stdout",
     "output_type": "stream",
     "text": [
      "percentage of male: 66.92%\n",
      "percentage of female: 33.08%\n"
     ]
    }
   ],
   "source": [
    "percentage_male = sum(df[\"sex\"] == \" Male\") / len(df)\n",
    "percentage_female = sum(df[\"sex\"] == \" Female\") / len(df)\n",
    "\n",
    "print(f\"percentage of male: {100 * percentage_male:0.2f}%\")\n",
    "print(f\"percentage of female: {100 * percentage_female:0.2f}%\")"
   ]
  },
  {
   "attachments": {},
   "cell_type": "markdown",
   "metadata": {
    "colab_type": "text",
    "id": "eGVw7pqL1pqN"
   },
   "source": [
    "### Part (c) [2 pt]\n",
    "\n",
    "Before proceeding, we will modify our data frame in a couple more ways:\n",
    "\n",
    "1. We will restrict ourselves to using a subset of the features (to simplify our autoencoder)\n",
    "2. We will remove any records (rows) already containing missing values, and store them in a second dataframe. We will only use records without missing values to train our autoencoder.\n",
    "\n",
    "Both of these steps are done for you, below.\n",
    "\n",
    "How many records contained missing features? What percentage of records were removed?"
   ]
  },
  {
   "cell_type": "code",
   "execution_count": 10,
   "metadata": {
    "colab": {},
    "colab_type": "code",
    "collapsed": true,
    "id": "z6ewPUdv1pqO",
    "jupyter": {
     "outputs_hidden": true
    }
   },
   "outputs": [],
   "source": [
    "contcols = [\"age\", \"yredu\", \"capgain\", \"caploss\", \"workhr\"]\n",
    "catcols = [\"work\", \"marriage\", \"occupation\", \"edu\", \"relationship\", \"sex\"]\n",
    "features = contcols + catcols\n",
    "df = df[features]"
   ]
  },
  {
   "cell_type": "code",
   "execution_count": 11,
   "metadata": {
    "colab": {},
    "colab_type": "code",
    "collapsed": true,
    "id": "fjdVll5a1pqQ",
    "jupyter": {
     "outputs_hidden": true
    }
   },
   "outputs": [
    {
     "name": "stdout",
     "output_type": "stream",
     "text": [
      "number of records with missing values: 1843\n",
      "percentage of records with missing values: 5.66%\n"
     ]
    }
   ],
   "source": [
    "missing = pd.concat([df[c] == \" ?\" for c in catcols], axis=1).any(axis=1)\n",
    "df_with_missing = df[missing]\n",
    "df_not_missing = df[~missing]\n",
    "\n",
    "print(f\"number of records with missing values: {len(df_with_missing)}\")\n",
    "print(f\"percentage of records with missing values: {100 * len(df_with_missing) / len(df):0.2f}%\")"
   ]
  },
  {
   "attachments": {},
   "cell_type": "markdown",
   "metadata": {
    "colab_type": "text",
    "id": "XuEpndTQ1pqU"
   },
   "source": [
    "### Part (d) One-Hot Encoding [1 pt]\n",
    "\n",
    "What are all the possible values of the feature \"work\" in `df_not_missing`? You may find the Python function `set` useful."
   ]
  },
  {
   "cell_type": "code",
   "execution_count": 12,
   "metadata": {
    "colab": {},
    "colab_type": "code",
    "collapsed": true,
    "id": "iKFh4owE1pqV",
    "jupyter": {
     "outputs_hidden": true
    }
   },
   "outputs": [
    {
     "name": "stdout",
     "output_type": "stream",
     "text": [
      "All possible values for work are: \n",
      "{' Self-emp-inc', ' State-gov', ' Without-pay', ' Private', ' Self-emp-not-inc', ' Federal-gov', ' Local-gov'}\n"
     ]
    }
   ],
   "source": [
    "print(\"All possible values for work are: \")\n",
    "print(set(df_not_missing[\"work\"]))"
   ]
  },
  {
   "attachments": {},
   "cell_type": "markdown",
   "metadata": {
    "colab_type": "text",
    "id": "COv3HaKr1pqY"
   },
   "source": [
    "We will be using a one-hot encoding to represent each of the categorical variables.\n",
    "Our autoencoder will be trained using these one-hot encodings.\n",
    "\n",
    "We will use the pandas function `get_dummies` to produce one-hot encodings\n",
    "for all of the categorical variables in `df_not_missing`. "
   ]
  },
  {
   "cell_type": "code",
   "execution_count": 13,
   "metadata": {
    "colab": {},
    "colab_type": "code",
    "collapsed": true,
    "id": "eKlSYmJg1pqZ",
    "jupyter": {
     "outputs_hidden": true
    }
   },
   "outputs": [],
   "source": [
    "data = pd.get_dummies(df_not_missing)"
   ]
  },
  {
   "cell_type": "code",
   "execution_count": 14,
   "metadata": {
    "colab": {},
    "colab_type": "code",
    "collapsed": true,
    "id": "3y7nTZ7H1pqb",
    "jupyter": {
     "outputs_hidden": true
    },
    "scrolled": true
   },
   "outputs": [
    {
     "data": {
      "text/html": [
       "<div>\n",
       "<style scoped>\n",
       "    .dataframe tbody tr th:only-of-type {\n",
       "        vertical-align: middle;\n",
       "    }\n",
       "\n",
       "    .dataframe tbody tr th {\n",
       "        vertical-align: top;\n",
       "    }\n",
       "\n",
       "    .dataframe thead th {\n",
       "        text-align: right;\n",
       "    }\n",
       "</style>\n",
       "<table border=\"1\" class=\"dataframe\">\n",
       "  <thead>\n",
       "    <tr style=\"text-align: right;\">\n",
       "      <th></th>\n",
       "      <th>age</th>\n",
       "      <th>yredu</th>\n",
       "      <th>capgain</th>\n",
       "      <th>caploss</th>\n",
       "      <th>workhr</th>\n",
       "      <th>work_ Federal-gov</th>\n",
       "      <th>work_ Local-gov</th>\n",
       "      <th>work_ Private</th>\n",
       "      <th>work_ Self-emp-inc</th>\n",
       "      <th>work_ Self-emp-not-inc</th>\n",
       "      <th>...</th>\n",
       "      <th>edu_ Prof-school</th>\n",
       "      <th>edu_ Some-college</th>\n",
       "      <th>relationship_ Husband</th>\n",
       "      <th>relationship_ Not-in-family</th>\n",
       "      <th>relationship_ Other-relative</th>\n",
       "      <th>relationship_ Own-child</th>\n",
       "      <th>relationship_ Unmarried</th>\n",
       "      <th>relationship_ Wife</th>\n",
       "      <th>sex_ Female</th>\n",
       "      <th>sex_ Male</th>\n",
       "    </tr>\n",
       "  </thead>\n",
       "  <tbody>\n",
       "    <tr>\n",
       "      <th>0</th>\n",
       "      <td>0.301370</td>\n",
       "      <td>0.800000</td>\n",
       "      <td>0.02174</td>\n",
       "      <td>0.0</td>\n",
       "      <td>0.397959</td>\n",
       "      <td>0</td>\n",
       "      <td>0</td>\n",
       "      <td>0</td>\n",
       "      <td>0</td>\n",
       "      <td>0</td>\n",
       "      <td>...</td>\n",
       "      <td>0</td>\n",
       "      <td>0</td>\n",
       "      <td>0</td>\n",
       "      <td>1</td>\n",
       "      <td>0</td>\n",
       "      <td>0</td>\n",
       "      <td>0</td>\n",
       "      <td>0</td>\n",
       "      <td>0</td>\n",
       "      <td>1</td>\n",
       "    </tr>\n",
       "    <tr>\n",
       "      <th>1</th>\n",
       "      <td>0.452055</td>\n",
       "      <td>0.800000</td>\n",
       "      <td>0.00000</td>\n",
       "      <td>0.0</td>\n",
       "      <td>0.122449</td>\n",
       "      <td>0</td>\n",
       "      <td>0</td>\n",
       "      <td>0</td>\n",
       "      <td>0</td>\n",
       "      <td>1</td>\n",
       "      <td>...</td>\n",
       "      <td>0</td>\n",
       "      <td>0</td>\n",
       "      <td>1</td>\n",
       "      <td>0</td>\n",
       "      <td>0</td>\n",
       "      <td>0</td>\n",
       "      <td>0</td>\n",
       "      <td>0</td>\n",
       "      <td>0</td>\n",
       "      <td>1</td>\n",
       "    </tr>\n",
       "    <tr>\n",
       "      <th>2</th>\n",
       "      <td>0.287671</td>\n",
       "      <td>0.533333</td>\n",
       "      <td>0.00000</td>\n",
       "      <td>0.0</td>\n",
       "      <td>0.397959</td>\n",
       "      <td>0</td>\n",
       "      <td>0</td>\n",
       "      <td>1</td>\n",
       "      <td>0</td>\n",
       "      <td>0</td>\n",
       "      <td>...</td>\n",
       "      <td>0</td>\n",
       "      <td>0</td>\n",
       "      <td>0</td>\n",
       "      <td>1</td>\n",
       "      <td>0</td>\n",
       "      <td>0</td>\n",
       "      <td>0</td>\n",
       "      <td>0</td>\n",
       "      <td>0</td>\n",
       "      <td>1</td>\n",
       "    </tr>\n",
       "  </tbody>\n",
       "</table>\n",
       "<p>3 rows × 57 columns</p>\n",
       "</div>"
      ],
      "text/plain": [
       "        age     yredu  capgain  caploss    workhr  work_ Federal-gov  \\\n",
       "0  0.301370  0.800000  0.02174      0.0  0.397959                  0   \n",
       "1  0.452055  0.800000  0.00000      0.0  0.122449                  0   \n",
       "2  0.287671  0.533333  0.00000      0.0  0.397959                  0   \n",
       "\n",
       "   work_ Local-gov  work_ Private  work_ Self-emp-inc  work_ Self-emp-not-inc  \\\n",
       "0                0              0                   0                       0   \n",
       "1                0              0                   0                       1   \n",
       "2                0              1                   0                       0   \n",
       "\n",
       "   ...  edu_ Prof-school  edu_ Some-college  relationship_ Husband  \\\n",
       "0  ...                 0                  0                      0   \n",
       "1  ...                 0                  0                      1   \n",
       "2  ...                 0                  0                      0   \n",
       "\n",
       "   relationship_ Not-in-family  relationship_ Other-relative  \\\n",
       "0                            1                             0   \n",
       "1                            0                             0   \n",
       "2                            1                             0   \n",
       "\n",
       "   relationship_ Own-child  relationship_ Unmarried  relationship_ Wife  \\\n",
       "0                        0                        0                   0   \n",
       "1                        0                        0                   0   \n",
       "2                        0                        0                   0   \n",
       "\n",
       "   sex_ Female  sex_ Male  \n",
       "0            0          1  \n",
       "1            0          1  \n",
       "2            0          1  \n",
       "\n",
       "[3 rows x 57 columns]"
      ]
     },
     "execution_count": 14,
     "metadata": {},
     "output_type": "execute_result"
    }
   ],
   "source": [
    "data[:3]"
   ]
  },
  {
   "attachments": {},
   "cell_type": "markdown",
   "metadata": {
    "colab_type": "text",
    "id": "HwjDg1uM1pqe"
   },
   "source": [
    "### Part (e) One-Hot Encoding [2 pt]\n",
    "\n",
    "The dataframe `data` contains the cleaned and normalized data that we will use to train our denoising autoencoder.\n",
    "\n",
    "How many **columns** (features) are in the dataframe `data`?\n",
    "\n",
    "Briefly explain where that number come from."
   ]
  },
  {
   "cell_type": "code",
   "execution_count": 15,
   "metadata": {
    "colab": {},
    "colab_type": "code",
    "collapsed": true,
    "id": "yjZ5N0Tl1pqf",
    "jupyter": {
     "outputs_hidden": true
    }
   },
   "outputs": [
    {
     "name": "stdout",
     "output_type": "stream",
     "text": [
      "number of columns: 57\n"
     ]
    }
   ],
   "source": [
    "print(f\"number of columns: {len(data.columns)}\")"
   ]
  },
  {
   "attachments": {},
   "cell_type": "markdown",
   "metadata": {},
   "source": [
    "**Answer**\n",
    "\n",
    "The 57 columns comes from `pd.get_dummy()` one-hot encoding strings in the dataframe `data`. It appends a column for every possible value of a certain column and set the value to 1 if the value of the column is present or 0 otherwise. "
   ]
  },
  {
   "attachments": {},
   "cell_type": "markdown",
   "metadata": {
    "colab_type": "text",
    "id": "OEJ0Ci3l1pqh"
   },
   "source": [
    "### Part (f) One-Hot Conversion [3 pt]\n",
    "\n",
    "We will convert the pandas data frame `data` into numpy, so that\n",
    "it can be further converted into a PyTorch tensor.\n",
    "However, in doing so, we lose the column label information that\n",
    "a panda data frame automatically stores.\n",
    "\n",
    "Complete the function `get_categorical_value` that will return\n",
    "the named value of a feature given a one-hot embedding.\n",
    "You may find the global variables `cat_index` and `cat_values`\n",
    "useful. (Display them and figure out what they are first.)\n",
    "\n",
    "We will need this function in the next part of the lab\n",
    "to interpret our autoencoder outputs. So, the input\n",
    "to our function `get_categorical_values` might not \n",
    "actually be \"one-hot\" -- the input may instead \n",
    "contain real-valued predictions from our neural network."
   ]
  },
  {
   "cell_type": "code",
   "execution_count": 16,
   "metadata": {
    "colab": {},
    "colab_type": "code",
    "collapsed": true,
    "id": "ZmovX6gu1pqi",
    "jupyter": {
     "outputs_hidden": true
    }
   },
   "outputs": [],
   "source": [
    "datanp = data.values.astype(np.float32)"
   ]
  },
  {
   "cell_type": "code",
   "execution_count": 17,
   "metadata": {
    "colab": {},
    "colab_type": "code",
    "collapsed": true,
    "id": "YRIa5MBd1pql",
    "jupyter": {
     "outputs_hidden": true
    }
   },
   "outputs": [],
   "source": [
    "cat_index = {}  # Mapping of feature -> start index of feature in a record\n",
    "cat_values = {} # Mapping of feature -> list of categorical values the feature can take\n",
    "\n",
    "# build up the cat_index and cat_values dictionary\n",
    "for i, header in enumerate(data.keys()):\n",
    "    if \"_\" in header: # categorical header\n",
    "        feature, value = header.split()\n",
    "        feature = feature[:-1] # remove the last char; it is always an underscore\n",
    "        if feature not in cat_index:\n",
    "            cat_index[feature] = i\n",
    "            cat_values[feature] = [value]\n",
    "        else:\n",
    "            cat_values[feature].append(value)\n",
    "\n",
    "def get_onehot(record, feature):\n",
    "    \"\"\"\n",
    "    Return the portion of `record` that is the one-hot encoding\n",
    "    of `feature`. For example, since the feature \"work\" is stored\n",
    "    in the indices [5:12] in each record, calling `get_range(record, \"work\")`\n",
    "    is equivalent to accessing `record[5:12]`.\n",
    "    \n",
    "    Args:\n",
    "        - record: a numpy array representing one record, formatted\n",
    "                  the same way as a row in `data.np`\n",
    "        - feature: a string, should be an element of `catcols`\n",
    "    \"\"\"\n",
    "    start_index = cat_index[feature]\n",
    "    stop_index = cat_index[feature] + len(cat_values[feature])\n",
    "    return record[start_index:stop_index]\n",
    "\n",
    "def get_categorical_value(onehot, feature):\n",
    "    \"\"\"\n",
    "    Return the categorical value name of a feature given\n",
    "    a one-hot vector representing the feature.\n",
    "    \n",
    "    Args:\n",
    "        - onehot: a numpy array one-hot representation of the feature\n",
    "        - feature: a string, should be an element of `catcols`\n",
    "    \n",
    "    Returns:\n",
    "        - a string, the categorical value name of the feature\n",
    "    Examples:\n",
    "    \n",
    "    >>> get_categorical_value(np.array([0., 0., 0., 0., 0., 1., 0.]), \"work\")\n",
    "    'State-gov'\n",
    "    >>> get_categorical_value(np.array([0.1, 0., 1.1, 0.2, 0., 1., 0.]), \"work\")\n",
    "    'Private'\n",
    "    \"\"\"\n",
    "    # <----- TODO: WRITE YOUR CODE HERE ----->\n",
    "    # You may find the variables `cat_index` and `cat_values` \n",
    "    # (created above) useful.\n",
    "    return cat_values[feature][np.argmax(onehot)]"
   ]
  },
  {
   "cell_type": "code",
   "execution_count": 18,
   "metadata": {
    "colab": {},
    "colab_type": "code",
    "collapsed": true,
    "id": "T_XXxZdh1pqv",
    "jupyter": {
     "outputs_hidden": true
    }
   },
   "outputs": [],
   "source": [
    "# more useful code, used during training, that depends on the function\n",
    "# you write above\n",
    "\n",
    "def get_feature(record, feature):\n",
    "    \"\"\"\n",
    "    Return the categorical feature value of a record\n",
    "    \"\"\"\n",
    "    onehot = get_onehot(record, feature)\n",
    "    return get_categorical_value(onehot, feature)\n",
    "\n",
    "def get_features(record):\n",
    "    \"\"\"\n",
    "    Return a dictionary of all categorical feature values of a record\n",
    "    \"\"\"\n",
    "    return { f: get_feature(record, f) for f in catcols }"
   ]
  },
  {
   "attachments": {},
   "cell_type": "markdown",
   "metadata": {
    "colab_type": "text",
    "id": "1_5ZZR_J1pqy"
   },
   "source": [
    "### Part (g) Train/Test Split [3 pt]\n",
    "\n",
    "Randomly split the data into approximately 70% training, 15% validation and 15% test.\n",
    "\n",
    "Report the number of items in your training, validation, and test set."
   ]
  },
  {
   "cell_type": "code",
   "execution_count": 19,
   "metadata": {
    "colab": {},
    "colab_type": "code",
    "collapsed": true,
    "id": "TE_fTJJf1pqz",
    "jupyter": {
     "outputs_hidden": true
    }
   },
   "outputs": [
    {
     "name": "stdout",
     "output_type": "stream",
     "text": [
      "number of training records: 21502\n",
      "number of validation records: 4608\n",
      "number of testing records: 4608\n"
     ]
    }
   ],
   "source": [
    "# set the numpy seed for reproducibility\n",
    "# https://docs.scipy.org/doc/numpy/reference/generated/numpy.random.seed.html\n",
    "np.random.seed(50)\n",
    "\n",
    "# split data into 70% training, 15% validation, and 15% testing\n",
    "train_indices = np.random.choice(len(datanp), int(0.7 * len(datanp)), replace=False)\n",
    "remaining = set(range(len(datanp))) - set(train_indices)\n",
    "valid_indices = np.random.choice(list(remaining), int(0.5 * len(remaining)), replace=False)\n",
    "test_indices = list(remaining - set(valid_indices))\n",
    "\n",
    "train_data = datanp[train_indices]\n",
    "valid_data = datanp[valid_indices]\n",
    "test_data = datanp[test_indices]\n",
    "\n",
    "print(f\"number of training records: {len(train_data)}\")\n",
    "print(f\"number of validation records: {len(valid_data)}\")\n",
    "print(f\"number of testing records: {len(test_data)}\")"
   ]
  },
  {
   "attachments": {},
   "cell_type": "markdown",
   "metadata": {
    "colab_type": "text",
    "id": "h9wJAKOI1pq3"
   },
   "source": [
    "## Part 2. Model Setup [5 pt]\n",
    "\n",
    "### Part (a) [4 pt]\n",
    "\n",
    "Design a fully-connected autoencoder by modifying the `encoder` and `decoder`\n",
    "below.\n",
    "\n",
    "The input to this autoencoder will be the features of the `data`, with\n",
    "one categorical feature recorded as \"missing\". The output of the autoencoder\n",
    "should be the reconstruction of the same features, but with the missing\n",
    "value filled in.\n",
    "\n",
    "**Note**: Do not reduce the dimensionality of the input too much!\n",
    "The output of your embedding is expected to contain information \n",
    "about ~11 features."
   ]
  },
  {
   "cell_type": "code",
   "execution_count": 22,
   "metadata": {
    "colab": {},
    "colab_type": "code",
    "collapsed": true,
    "id": "f3F--tdn1pq3",
    "jupyter": {
     "outputs_hidden": true
    }
   },
   "outputs": [],
   "source": [
    "from torch import nn\n",
    "\n",
    "class AutoEncoder(nn.Module):\n",
    "    def __init__(self):\n",
    "        super(AutoEncoder, self).__init__()\n",
    "        self.name = \"autoencoder\"\n",
    "        self.encoder = nn.Sequential(\n",
    "            nn.Linear(57, 57),\n",
    "            nn.ReLU(),\n",
    "            nn.Linear(57, 37),\n",
    "            nn.ReLU(),\n",
    "            nn.Linear(37, 25)\n",
    "        )\n",
    "        self.decoder = nn.Sequential(\n",
    "            nn.Linear(25, 37),\n",
    "            nn.ReLU(),\n",
    "            nn.Linear(37, 57),\n",
    "            nn.ReLU(),\n",
    "            nn.Linear(57, 57),\n",
    "            nn.Sigmoid() # get to the range (0, 1)\n",
    "        )\n",
    "\n",
    "    def forward(self, x):\n",
    "        x = self.encoder(x)\n",
    "        x = self.decoder(x)\n",
    "        return x"
   ]
  },
  {
   "attachments": {},
   "cell_type": "markdown",
   "metadata": {
    "colab_type": "text",
    "id": "kuEzTSAv1pq6"
   },
   "source": [
    "### Part (b) [1 pt]\n",
    "\n",
    "Explain why there is a sigmoid activation in the last step of the decoder.\n",
    "\n",
    "(**Note**: the values inside the data frame `data` and the training code in Part 3 might be helpful.)"
   ]
  },
  {
   "attachments": {},
   "cell_type": "markdown",
   "metadata": {},
   "source": [
    "**Answer**\n",
    "\n",
    "The data frame `data` contains only 1's and 0's for the features because it has been 1-hot-encoded. Therefore we expect the output of the autoencoder to have the values between 0 and 1, and the max in the softmax output will be the predicted value. "
   ]
  },
  {
   "attachments": {},
   "cell_type": "markdown",
   "metadata": {
    "colab_type": "text",
    "id": "jYwqFWVl1pq8"
   },
   "source": [
    "## Part 3. Training [18] \n",
    "\n",
    "### Part (a) [6 pt]\n",
    "\n",
    "We will train our autoencoder in the following way:\n",
    "\n",
    "- In each iteration, we will hide one of the categorical features using the `zero_out_random_features` function\n",
    "- We will pass the data with one missing feature through the autoencoder, and obtain a reconstruction\n",
    "- We will check how close the reconstruction is compared to the original data -- including the value of the missing feature\n",
    "\n",
    "Complete the code to train the autoencoder, and plot the training and validation loss every few iterations.\n",
    "You may also want to plot training and validation \"accuracy\" every few iterations, as we will define in\n",
    "part (b). You may also want to checkpoint your model every few iterations or epochs.\n",
    "\n",
    "Use `nn.MSELoss()` as your loss function. (Side note: you might recognize that this loss function is not\n",
    "ideal for this problem, but we will use it anyway.)"
   ]
  },
  {
   "cell_type": "code",
   "execution_count": 41,
   "metadata": {
    "colab": {},
    "colab_type": "code",
    "collapsed": true,
    "id": "IDQA_-dS1pq9",
    "jupyter": {
     "outputs_hidden": true
    }
   },
   "outputs": [],
   "source": [
    "import os\n",
    "\n",
    "def zero_out_feature(records, feature):\n",
    "    \"\"\" Set the feature missing in records, by setting the appropriate\n",
    "    columns of records to 0\n",
    "    \"\"\"\n",
    "    start_index = cat_index[feature]\n",
    "    stop_index = cat_index[feature] + len(cat_values[feature])\n",
    "    records[:, start_index:stop_index] = 0\n",
    "    return records\n",
    "\n",
    "def zero_out_random_feature(records):\n",
    "    \"\"\" Set one random feature missing in records, by setting the \n",
    "    appropriate columns of records to 0\n",
    "    \"\"\"\n",
    "    return zero_out_feature(records, random.choice(catcols))\n",
    "\n",
    "def plot_training_curve(path):\n",
    "    \"\"\" Plots the training curve for a model run, given the csv files\n",
    "    containing the train/validation accuracy/loss.\n",
    "\n",
    "    Args:\n",
    "        path: The base path of the csv files produced during training\n",
    "    \"\"\"\n",
    "    import matplotlib.pyplot as plt\n",
    "    train_err = np.loadtxt(\"./csv/{}_train_acc.csv\".format(path))\n",
    "    val_err = np.loadtxt(\"./csv/{}_val_acc.csv\".format(path))\n",
    "    train_loss = np.loadtxt(\"./csv/{}_train_loss.csv\".format(path))\n",
    "    val_loss = np.loadtxt(\"./csv/{}_val_loss.csv\".format(path))\n",
    "    plt.title(\"Train vs Validation Accuracy\")\n",
    "    n = len(train_err) # number of epochs\n",
    "    plt.plot(range(1,n+1), train_err, label=\"Train\")\n",
    "    plt.plot(range(1,n+1), val_err, label=\"Validation\")\n",
    "    plt.xlabel(\"Epoch\")\n",
    "    plt.ylabel(\"Accuracy\")\n",
    "    plt.legend(loc='best')\n",
    "    plt.show()\n",
    "    plt.title(\"Train vs Validation Loss\")\n",
    "    plt.plot(range(1,n+1), train_loss, label=\"Train\")\n",
    "    plt.plot(range(1,n+1), val_loss, label=\"Validation\")\n",
    "    plt.xlabel(\"Epoch\")\n",
    "    plt.ylabel(\"Loss\")\n",
    "    plt.legend(loc='best')\n",
    "    plt.show()\n",
    "\n",
    "def train(model, train_data, valid_data, batch_size=64, num_epochs=5, learning_rate=1e-4):\n",
    "    \"\"\" Training loop. You should update this.\"\"\"\n",
    "    torch.manual_seed(42)\n",
    "    train_loader = torch.utils.data.DataLoader(train_data, batch_size=batch_size, shuffle=True)\n",
    "    valid_loader = torch.utils.data.DataLoader(valid_data, batch_size=batch_size, shuffle=True)\n",
    "    criterion = nn.MSELoss()\n",
    "    optimizer = torch.optim.Adam(model.parameters(), lr=learning_rate)\n",
    "\n",
    "    # record training, validation accuracy and loss\n",
    "    train_acc = np.zeros(num_epochs)\n",
    "    val_acc = np.zeros(num_epochs)\n",
    "    train_loss = np.zeros(num_epochs)\n",
    "    val_loss = np.zeros(num_epochs)\n",
    "\n",
    "    for epoch in range(num_epochs):\n",
    "        total_train_loss = 0.0\n",
    "        total_validation_loss = 0.0\n",
    "        for data in train_loader:\n",
    "            datam = zero_out_random_feature(data.clone()) # zero out one categorical feature\n",
    "            recon = model(datam)\n",
    "            training_loss = criterion(recon, data)\n",
    "            training_loss.backward()\n",
    "            optimizer.step()\n",
    "            optimizer.zero_grad()\n",
    "            total_train_loss += training_loss.item()\n",
    "        for data in valid_loader:\n",
    "            datam = zero_out_random_feature(data.clone())\n",
    "            recon = model(datam)\n",
    "            validation_loss = criterion(recon, data)\n",
    "            total_validation_loss += validation_loss.item()\n",
    "        train_loss[epoch] = float(total_train_loss) / batch_size\n",
    "        val_loss[epoch] = float(total_validation_loss) / batch_size\n",
    "        train_acc[epoch] = get_accuracy(model, train_loader)\n",
    "        val_acc[epoch] = get_accuracy(model, valid_loader)\n",
    "        os.makedirs(\"./models\", exist_ok=True)\n",
    "        model_path = f\"model_{model.name}_bs{batch_size}_lr{learning_rate}_epoch{epoch}\"\n",
    "        torch.save(model.state_dict(), \"./models/\"+model_path)\n",
    "        print((\"Epoch {}: Train acc: {}, Train loss: {} |\"+\n",
    "                \"Validation acc: {}, Validation loss: {}\").format(\n",
    "                     epoch + 1,\n",
    "                     train_acc[epoch],\n",
    "                     train_loss[epoch],\n",
    "                     val_acc[epoch],\n",
    "                     val_loss[epoch]))\n",
    "    os.makedirs(\"./csv\", exist_ok=True)\n",
    "    np.savetxt(\"./csv/{}_train_acc.csv\".format(model_path), train_acc)\n",
    "    np.savetxt(\"./csv/{}_val_acc.csv\".format(model_path), val_acc)\n",
    "    np.savetxt(\"./csv/{}_train_loss.csv\".format(model_path), train_loss)\n",
    "    np.savetxt(\"./csv/{}_val_loss.csv\".format(model_path), val_loss)"
   ]
  },
  {
   "attachments": {},
   "cell_type": "markdown",
   "metadata": {
    "colab_type": "text",
    "id": "WKk01pwx1pq_"
   },
   "source": [
    "### Part (b) [3 pt]\n",
    "\n",
    "While plotting training and validation loss is valuable, loss values are harder to compare\n",
    "than accuracy percentages. It would be nice to have a measure of \"accuracy\" in this problem.\n",
    "\n",
    "Since we will only be imputing missing categorical values, we will define an accuracy measure.\n",
    "For each record and for each categorical feature, we determine whether\n",
    "the model can predict the categorical feature given all the other features of the record.\n",
    "\n",
    "A function `get_accuracy` is written for you. It is up to you to figure out how to\n",
    "use the function. **You don't need to submit anything in this part.**\n",
    "To earn the marks, correctly plot the training and validation accuracy every few \n",
    "iterations as part of your training curve."
   ]
  },
  {
   "cell_type": "code",
   "execution_count": 21,
   "metadata": {
    "colab": {},
    "colab_type": "code",
    "collapsed": true,
    "id": "bHWLfCzM1pq_",
    "jupyter": {
     "outputs_hidden": true
    }
   },
   "outputs": [],
   "source": [
    "def get_accuracy(model, data_loader):\n",
    "    \"\"\"Return the \"accuracy\" of the autoencoder model across a data set.\n",
    "    That is, for each record and for each categorical feature, \n",
    "    we determine whether the model can successfully predict the value\n",
    "    of the categorical feature given all the other features of the \n",
    "    record. The returned \"accuracy\" measure is the percentage of times \n",
    "    that our model is successful.\n",
    "        \n",
    "    Args:\n",
    "       - model: the autoencoder model, an instance of nn.Module\n",
    "       - data_loader: an instance of torch.utils.data.DataLoader\n",
    "\n",
    "    Example (to illustrate how get_accuracy is intended to be called.\n",
    "             Depending on your variable naming this code might require\n",
    "             modification.)\n",
    "\n",
    "        >>> model = AutoEncoder()\n",
    "        >>> vdl = torch.utils.data.DataLoader(data_valid, batch_size=256, shuffle=True)\n",
    "        >>> get_accuracy(model, vdl)\n",
    "    \"\"\"\n",
    "    total = 0\n",
    "    acc = 0\n",
    "    for col in catcols:\n",
    "        for item in data_loader: # minibatches\n",
    "            inp = item.detach().numpy()\n",
    "            out = model(zero_out_feature(item.clone(), col)).detach().numpy()\n",
    "            for i in range(out.shape[0]): # record in minibatch\n",
    "                acc += int(get_feature(out[i], col) == get_feature(inp[i], col))\n",
    "                total += 1\n",
    "    return acc / total"
   ]
  },
  {
   "attachments": {},
   "cell_type": "markdown",
   "metadata": {
    "colab_type": "text",
    "id": "SxCTlXoV1prB"
   },
   "source": [
    "### Part (c) [4 pt]\n",
    "\n",
    "Run your updated training code, using reasonable initial hyperparameters.\n",
    "\n",
    "Include your training curve in your submission."
   ]
  },
  {
   "cell_type": "code",
   "execution_count": 43,
   "metadata": {
    "colab": {},
    "colab_type": "code",
    "collapsed": true,
    "id": "nj5b71l-1prC",
    "jupyter": {
     "outputs_hidden": true
    }
   },
   "outputs": [
    {
     "name": "stdout",
     "output_type": "stream",
     "text": [
      "Epoch 1: Train acc: 0.5337953058630205, Train loss: 0.4519631272414699 |Validation acc: 0.5335648148148148, Validation loss: 0.06433742330409586\n",
      "Epoch 2: Train acc: 0.5897280873097076, Train loss: 0.27271649666363373 |Validation acc: 0.5872395833333334, Validation loss: 0.054865033423993737\n",
      "Epoch 3: Train acc: 0.5951306855176263, Train loss: 0.24186828645179048 |Validation acc: 0.5930989583333334, Validation loss: 0.047291941416915506\n",
      "Epoch 4: Train acc: 0.6020835271137569, Train loss: 0.20190150212147273 |Validation acc: 0.599609375, Validation loss: 0.03898006092640571\n",
      "Epoch 5: Train acc: 0.6064552134685146, Train loss: 0.17209649458527565 |Validation acc: 0.6006582754629629, Validation loss: 0.03453038170118816\n",
      "Epoch 6: Train acc: 0.6138808792980498, Train loss: 0.15229142454336397 |Validation acc: 0.6078197337962963, Validation loss: 0.03115456792875193\n",
      "Epoch 7: Train acc: 0.6128112113601836, Train loss: 0.13749105177703314 |Validation acc: 0.6071325231481481, Validation loss: 0.028232097101863474\n",
      "Epoch 8: Train acc: 0.6133072892444114, Train loss: 0.12477102255797945 |Validation acc: 0.6077473958333334, Validation loss: 0.026225399516988546\n",
      "Epoch 9: Train acc: 0.6165628003596565, Train loss: 0.11870334690320306 |Validation acc: 0.6102068865740741, Validation loss: 0.02504273761587683\n",
      "Epoch 10: Train acc: 0.6148652838495644, Train loss: 0.1134552942821756 |Validation acc: 0.6083260995370371, Validation loss: 0.024153887439751998\n",
      "Epoch 11: Train acc: 0.6200585992000744, Train loss: 0.10855973015713971 |Validation acc: 0.6143301504629629, Validation loss: 0.022455693324445747\n",
      "Epoch 12: Train acc: 0.6038663070102006, Train loss: 0.10532787667762022 |Validation acc: 0.5973307291666666, Validation loss: 0.02233586204238236\n",
      "Epoch 13: Train acc: 0.6210119988838247, Train loss: 0.10093449779378716 |Validation acc: 0.6158854166666666, Validation loss: 0.022133142774691805\n",
      "Epoch 14: Train acc: 0.6223529594146281, Train loss: 0.09627867011295166 |Validation acc: 0.6149088541666666, Validation loss: 0.021293799916747957\n",
      "Epoch 15: Train acc: 0.6323055219669488, Train loss: 0.09627269968041219 |Validation acc: 0.6258680555555556, Validation loss: 0.020118623069720343\n",
      "Epoch 16: Train acc: 0.624019471056956, Train loss: 0.09164369622885715 |Validation acc: 0.6170428240740741, Validation loss: 0.02033738979662303\n",
      "Epoch 17: Train acc: 0.6297631228102812, Train loss: 0.09154914996179286 |Validation acc: 0.6232638888888888, Validation loss: 0.01949567542760633\n",
      "Epoch 18: Train acc: 0.63129011254767, Train loss: 0.08909639253397472 |Validation acc: 0.6241319444444444, Validation loss: 0.01902590590179898\n",
      "Epoch 19: Train acc: 0.6285771866182991, Train loss: 0.08674355653056409 |Validation acc: 0.6217447916666666, Validation loss: 0.018699030217248946\n",
      "Epoch 20: Train acc: 0.6317784392149568, Train loss: 0.08722919796127826 |Validation acc: 0.6249276620370371, Validation loss: 0.018606809637276456\n"
     ]
    },
    {
     "data": {
      "image/png": "[encoded data removed]",
      "text/plain": [
       "<Figure size 640x480 with 1 Axes>"
      ]
     },
     "metadata": {},
     "output_type": "display_data"
    },
    {
     "data": {
      "image/png": "[encoded data removed]",
      "text/plain": [
       "<Figure size 640x480 with 1 Axes>"
      ]
     },
     "metadata": {},
     "output_type": "display_data"
    }
   ],
   "source": [
    "model = AutoEncoder()\n",
    "batch_size = 64\n",
    "learning_rate = 8 * 1e-4\n",
    "epoch = 20\n",
    "train(model, train_data, valid_data, batch_size=batch_size, num_epochs=epoch, learning_rate=learning_rate)\n",
    "plot_training_curve(f\"model_{model.name}_bs{batch_size}_lr{learning_rate}_epoch{epoch-1}\")"
   ]
  },
  {
   "attachments": {},
   "cell_type": "markdown",
   "metadata": {
    "colab_type": "text",
    "id": "h9xTwIf51prF"
   },
   "source": [
    "### Part (d) [5 pt]\n",
    "\n",
    "Tune your hyperparameters, training at least 4 different models (4 sets of hyperparameters).\n",
    "\n",
    "Do not include all your training curves. Instead, explain what hyperparameters\n",
    "you tried, what their effect was, and what your thought process was as you \n",
    "chose the next set of hyperparameters to try."
   ]
  },
  {
   "attachments": {},
   "cell_type": "markdown",
   "metadata": {},
   "source": [
    "### Model 1\n",
    "\n",
    "Batch size = 64\n",
    "\n",
    "num_epochs = 20\n",
    "\n",
    "learning_rate = 0.01\n",
    "\n",
    "Changing the learning rate seem to had improved accuracy while decreasing loss, so I will try to overshoot the learning_rate in the next model"
   ]
  },
  {
   "cell_type": "code",
   "execution_count": 44,
   "metadata": {
    "colab": {},
    "colab_type": "code",
    "collapsed": true,
    "id": "PhTKt9iL1prG",
    "jupyter": {
     "outputs_hidden": true
    }
   },
   "outputs": [
    {
     "name": "stdout",
     "output_type": "stream",
     "text": [
      "Epoch 1: Train acc: 0.5977428456267634, Train loss: 0.29093484161421657 |Validation acc: 0.5946180555555556, Validation loss: 0.04232599804527126\n",
      "Epoch 2: Train acc: 0.6145862400396862, Train loss: 0.16688810809864663 |Validation acc: 0.6082175925925926, Validation loss: 0.030888893496012315\n",
      "Epoch 3: Train acc: 0.6074783741047345, Train loss: 0.12907178114983253 |Validation acc: 0.6012369791666666, Validation loss: 0.024822176404995844\n",
      "Epoch 4: Train acc: 0.6220506619539268, Train loss: 0.11111684959905688 |Validation acc: 0.6169704861111112, Validation loss: 0.022000797966029495\n",
      "Epoch 5: Train acc: 0.6074396180200291, Train loss: 0.10307411599205807 |Validation acc: 0.5993923611111112, Validation loss: 0.021867893272428773\n",
      "Epoch 6: Train acc: 0.6285151768827706, Train loss: 0.09803075868694577 |Validation acc: 0.6218532986111112, Validation loss: 0.020418440661160275\n",
      "Epoch 7: Train acc: 0.632716336464825, Train loss: 0.09480904116935562 |Validation acc: 0.6255063657407407, Validation loss: 0.01993825685349293\n",
      "Epoch 8: Train acc: 0.6338480141382197, Train loss: 0.09245321685739327 |Validation acc: 0.6251085069444444, Validation loss: 0.019472006184514612\n",
      "Epoch 9: Train acc: 0.6269649334945586, Train loss: 0.08892341652244795 |Validation acc: 0.6197554976851852, Validation loss: 0.018853655201382935\n",
      "Epoch 10: Train acc: 0.6338635165721018, Train loss: 0.08781275003275368 |Validation acc: 0.6265190972222222, Validation loss: 0.018703250942053273\n",
      "Epoch 11: Train acc: 0.6398939633522464, Train loss: 0.08287465586909093 |Validation acc: 0.6330295138888888, Validation loss: 0.018161037820391357\n",
      "Epoch 12: Train acc: 0.6353284965739621, Train loss: 0.07956163201743038 |Validation acc: 0.6276041666666666, Validation loss: 0.017494221887318417\n",
      "Epoch 13: Train acc: 0.6378476420798065, Train loss: 0.08083059045748087 |Validation acc: 0.6344039351851852, Validation loss: 0.017964625090826303\n",
      "Epoch 14: Train acc: 0.6444981862152358, Train loss: 0.0806490086906706 |Validation acc: 0.6377676504629629, Validation loss: 0.018410946562653407\n",
      "Epoch 15: Train acc: 0.6221979350758069, Train loss: 0.08032927932072198 |Validation acc: 0.6118344907407407, Validation loss: 0.01859926516772248\n",
      "Epoch 16: Train acc: 0.645567854153102, Train loss: 0.07907519487343961 |Validation acc: 0.6365017361111112, Validation loss: 0.01578150622663088\n",
      "Epoch 17: Train acc: 0.643482776795957, Train loss: 0.07617363960162038 |Validation acc: 0.6347294560185185, Validation loss: 0.016448392998427153\n",
      "Epoch 18: Train acc: 0.6419402846246861, Train loss: 0.07490217312442837 |Validation acc: 0.6342592592592593, Validation loss: 0.015985130754415877\n",
      "Epoch 19: Train acc: 0.6414829628251636, Train loss: 0.0762120540603064 |Validation acc: 0.6358868634259259, Validation loss: 0.015171917919360567\n",
      "Epoch 20: Train acc: 0.6591169813660744, Train loss: 0.07754765816935105 |Validation acc: 0.6527777777777778, Validation loss: 0.016306872275890782\n"
     ]
    }
   ],
   "source": [
    "# model 1\n",
    "model1 = AutoEncoder()\n",
    "train(model1, train_data, valid_data, batch_size=64, num_epochs=20, learning_rate=0.01)"
   ]
  },
  {
   "attachments": {},
   "cell_type": "markdown",
   "metadata": {},
   "source": [
    "### Model 2\n",
    "\n",
    "\n",
    "Batch size = 64\n",
    "\n",
    "num_epochs = 20\n",
    "\n",
    "learning_rate = 0.02\n",
    "\n",
    "We've definitly overshoot the learning rate. To compensate let's increase the batch_size to 128"
   ]
  },
  {
   "cell_type": "code",
   "execution_count": 46,
   "metadata": {},
   "outputs": [
    {
     "name": "stdout",
     "output_type": "stream",
     "text": [
      "Epoch 1: Train acc: 0.5960143242489071, Train loss: 0.2756308935931884 |Validation acc: 0.5914713541666666, Validation loss: 0.0443211913225241\n",
      "Epoch 2: Train acc: 0.6089433541065947, Train loss: 0.1817469539528247 |Validation acc: 0.6026475694444444, Validation loss: 0.036325656226836145\n",
      "Epoch 3: Train acc: 0.599378352401327, Train loss: 0.1604621588194277 |Validation acc: 0.5971498842592593, Validation loss: 0.03304609446786344\n",
      "Epoch 4: Train acc: 0.5981149040399343, Train loss: 0.1472805678495206 |Validation acc: 0.5886140046296297, Validation loss: 0.03112790684099309\n",
      "Epoch 5: Train acc: 0.5934254177905931, Train loss: 0.13715647696517408 |Validation acc: 0.587890625, Validation loss: 0.028589203371666372\n",
      "Epoch 6: Train acc: 0.6069745450035655, Train loss: 0.13587886074674316 |Validation acc: 0.6056857638888888, Validation loss: 0.028527893970021978\n",
      "Epoch 7: Train acc: 0.5999364400210833, Train loss: 0.13209841086063534 |Validation acc: 0.5912181712962963, Validation loss: 0.028647497907513753\n",
      "Epoch 8: Train acc: 0.6048507115617152, Train loss: 0.12602309287467506 |Validation acc: 0.5978370949074074, Validation loss: 0.026528347108978778\n",
      "Epoch 9: Train acc: 0.6041453508200787, Train loss: 0.11934009134711232 |Validation acc: 0.6001880787037037, Validation loss: 0.025303709640866145\n",
      "Epoch 10: Train acc: 0.6105633584472763, Train loss: 0.12143754836870357 |Validation acc: 0.6038049768518519, Validation loss: 0.025786940852412954\n",
      "Epoch 11: Train acc: 0.6080209592906086, Train loss: 0.12314488815900404 |Validation acc: 0.6023582175925926, Validation loss: 0.028372624394251034\n",
      "Epoch 12: Train acc: 0.595347719591976, Train loss: 0.12694493932940532 |Validation acc: 0.5885054976851852, Validation loss: 0.026434710947796702\n",
      "Epoch 13: Train acc: 0.6118810653272564, Train loss: 0.11888512437872123 |Validation acc: 0.6051793981481481, Validation loss: 0.02690186133258976\n",
      "Epoch 14: Train acc: 0.6049204725141847, Train loss: 0.11679275477945339 |Validation acc: 0.5999710648148148, Validation loss: 0.026082744079758413\n",
      "Epoch 15: Train acc: 0.6051840138901807, Train loss: 0.11404662298446056 |Validation acc: 0.6013093171296297, Validation loss: 0.02503195873578079\n",
      "Epoch 16: Train acc: 0.6142451864942796, Train loss: 0.115774142293958 |Validation acc: 0.6076027199074074, Validation loss: 0.025221897289156914\n",
      "Epoch 17: Train acc: 0.589906365299352, Train loss: 0.1313791218708502 |Validation acc: 0.5847800925925926, Validation loss: 0.035217902885051444\n",
      "Epoch 18: Train acc: 0.5941695346169349, Train loss: 0.14999688757234253 |Validation acc: 0.5898075810185185, Validation loss: 0.03287890341016464\n",
      "Epoch 19: Train acc: 0.5734582829504232, Train loss: 0.1465695955848787 |Validation acc: 0.5730251736111112, Validation loss: 0.03177574745495804\n",
      "Epoch 20: Train acc: 0.5802328465569094, Train loss: 0.14374080006382428 |Validation acc: 0.5720124421296297, Validation loss: 0.036536000727210194\n"
     ]
    }
   ],
   "source": [
    "model2 = AutoEncoder()\n",
    "train(model2, train_data, valid_data, batch_size=64, num_epochs=20, learning_rate=0.02)"
   ]
  },
  {
   "attachments": {},
   "cell_type": "markdown",
   "metadata": {},
   "source": [
    "### Model 3\n",
    "\n",
    "\n",
    "Batch size = 128\n",
    "\n",
    "num_epochs = 20\n",
    "\n",
    "learning_rate = 0.02\n",
    "\n",
    "The change in batch_size didn't seem to have an effect. Let's decrease the learning rate back down to 0.01, and decrease batch size to 32 to compare the effect of the batch size"
   ]
  },
  {
   "cell_type": "code",
   "execution_count": 47,
   "metadata": {},
   "outputs": [
    {
     "name": "stdout",
     "output_type": "stream",
     "text": [
      "Epoch 1: Train acc: 0.5903326822311102, Train loss: 0.09508018073393032 |Validation acc: 0.5889033564814815, Validation loss: 0.012558079353766516\n",
      "Epoch 2: Train acc: 0.6094626856416457, Train loss: 0.054882050899323076 |Validation acc: 0.6064814814814815, Validation loss: 0.010643871850334108\n",
      "Epoch 3: Train acc: 0.6191517068179704, Train loss: 0.04427874737302773 |Validation acc: 0.6118344907407407, Validation loss: 0.008545917109586298\n",
      "Epoch 4: Train acc: 0.6156946640622578, Train loss: 0.03879015048732981 |Validation acc: 0.6077835648148148, Validation loss: 0.008118422338156961\n",
      "Epoch 5: Train acc: 0.596657675255015, Train loss: 0.03624948862125166 |Validation acc: 0.5902416087962963, Validation loss: 0.007706303091254085\n",
      "Epoch 6: Train acc: 0.6073466034167364, Train loss: 0.032956427938188426 |Validation acc: 0.5985604745370371, Validation loss: 0.007130713915103115\n",
      "Epoch 7: Train acc: 0.6140126499860478, Train loss: 0.030685573161463253 |Validation acc: 0.6074942129629629, Validation loss: 0.0064014244271675125\n",
      "Epoch 8: Train acc: 0.6095712026788206, Train loss: 0.028726261713018175 |Validation acc: 0.6040581597222222, Validation loss: 0.006198663082614075\n",
      "Epoch 9: Train acc: 0.6064629646854556, Train loss: 0.02879355847107945 |Validation acc: 0.6003689236111112, Validation loss: 0.0059898713225265965\n",
      "Epoch 10: Train acc: 0.6112997240566769, Train loss: 0.027178059761354234 |Validation acc: 0.6066984953703703, Validation loss: 0.005724617818486877\n",
      "Epoch 11: Train acc: 0.5980141382197005, Train loss: 0.027022892369132023 |Validation acc: 0.5909288194444444, Validation loss: 0.005750991549575701\n",
      "Epoch 12: Train acc: 0.6095557002449384, Train loss: 0.02787986386101693 |Validation acc: 0.6020688657407407, Validation loss: 0.005916392816288862\n",
      "Epoch 13: Train acc: 0.6109819241620934, Train loss: 0.025799470000492875 |Validation acc: 0.6052155671296297, Validation loss: 0.005682571529177949\n",
      "Epoch 14: Train acc: 0.605990140452051, Train loss: 0.02629139476630371 |Validation acc: 0.6015625, Validation loss: 0.006112896808190271\n",
      "Epoch 15: Train acc: 0.6070830620407404, Train loss: 0.027354193764040247 |Validation acc: 0.6017433449074074, Validation loss: 0.005466021866595838\n",
      "Epoch 16: Train acc: 0.6062226769602828, Train loss: 0.025272708015108947 |Validation acc: 0.5993923611111112, Validation loss: 0.005536122640478425\n",
      "Epoch 17: Train acc: 0.6052925309273556, Train loss: 0.025307221883849707 |Validation acc: 0.5976924189814815, Validation loss: 0.005703268681827467\n",
      "Epoch 18: Train acc: 0.6110981924162093, Train loss: 0.025340429419884458 |Validation acc: 0.6055049189814815, Validation loss: 0.005386031356465537\n",
      "Epoch 19: Train acc: 0.6139428890335783, Train loss: 0.026154519138799515 |Validation acc: 0.6097005208333334, Validation loss: 0.005491617324878462\n",
      "Epoch 20: Train acc: 0.6075093789724987, Train loss: 0.02517521908157505 |Validation acc: 0.6035879629629629, Validation loss: 0.005106009266455658\n"
     ]
    }
   ],
   "source": [
    "model3 = AutoEncoder()\n",
    "train(model3, train_data, valid_data, batch_size=128, num_epochs=20, learning_rate=0.02)"
   ]
  },
  {
   "attachments": {},
   "cell_type": "markdown",
   "metadata": {},
   "source": [
    "### Model 4\n",
    "\n",
    "Batch size = 32\n",
    "\n",
    "num_epochs = 20\n",
    "\n",
    "learning_rate = 0.01\n",
    "\n",
    "Decreasing batch size seem to had an inverse effect on the training.\n"
   ]
  },
  {
   "cell_type": "code",
   "execution_count": 49,
   "metadata": {},
   "outputs": [
    {
     "name": "stdout",
     "output_type": "stream",
     "text": [
      "Epoch 1: Train acc: 0.6062924379127523, Train loss: 0.9471679113339633 |Validation acc: 0.6007306134259259, Validation loss: 0.13968103018123657\n",
      "Epoch 2: Train acc: 0.6164620345394227, Train loss: 0.5934513091342524 |Validation acc: 0.6085431134259259, Validation loss: 0.12028374196961522\n",
      "Epoch 3: Train acc: 0.611950826279726, Train loss: 0.523720977071207 |Validation acc: 0.6060112847222222, Validation loss: 0.10861348488833755\n",
      "Epoch 4: Train acc: 0.6097107245837596, Train loss: 0.48414630169281736 |Validation acc: 0.6021050347222222, Validation loss: 0.10337445529876277\n",
      "Epoch 5: Train acc: 0.6158729420519021, Train loss: 0.4524262000923045 |Validation acc: 0.6075303819444444, Validation loss: 0.0917995320778573\n",
      "Epoch 6: Train acc: 0.6293910643971103, Train loss: 0.4291014522896148 |Validation acc: 0.6233723958333334, Validation loss: 0.08752209602971561\n",
      "Epoch 7: Train acc: 0.6307475273617958, Train loss: 0.4189704133605119 |Validation acc: 0.6219256365740741, Validation loss: 0.08692937847808935\n",
      "Epoch 8: Train acc: 0.6237791833317831, Train loss: 0.4170124420488719 |Validation acc: 0.6151620370370371, Validation loss: 0.08375667597283609\n",
      "Epoch 9: Train acc: 0.6297476203763991, Train loss: 0.39145425567403436 |Validation acc: 0.6224681712962963, Validation loss: 0.0827053409157088\n",
      "Epoch 10: Train acc: 0.6325380584751806, Train loss: 0.3937059627205599 |Validation acc: 0.6241319444444444, Validation loss: 0.0851494551752694\n",
      "Epoch 11: Train acc: 0.6261355532818652, Train loss: 0.4006379012571415 |Validation acc: 0.6189959490740741, Validation loss: 0.08974611142184585\n",
      "Epoch 12: Train acc: 0.6209344867144142, Train loss: 0.4002665832376806 |Validation acc: 0.6127025462962963, Validation loss: 0.08331926216487773\n",
      "Epoch 13: Train acc: 0.6239342076706043, Train loss: 0.39749344148731325 |Validation acc: 0.6199001736111112, Validation loss: 0.08459827267506626\n",
      "Epoch 14: Train acc: 0.6345456236629151, Train loss: 0.3930442609707825 |Validation acc: 0.6304976851851852, Validation loss: 0.08743817519280128\n",
      "Epoch 15: Train acc: 0.6307552785787368, Train loss: 0.41406738803198095 |Validation acc: 0.6233000578703703, Validation loss: 0.09009814925957471\n",
      "Epoch 16: Train acc: 0.6361423743527734, Train loss: 0.4638506498595234 |Validation acc: 0.6306423611111112, Validation loss: 0.10601367664639838\n",
      "Epoch 17: Train acc: 0.606385452516045, Train loss: 0.46497234227717854 |Validation acc: 0.6009114583333334, Validation loss: 0.1043171753117349\n",
      "Epoch 18: Train acc: 0.6234071249186123, Train loss: 0.5059269095363561 |Validation acc: 0.6169343171296297, Validation loss: 0.10647165728732944\n",
      "Epoch 19: Train acc: 0.6125011626825412, Train loss: 0.5178315803350415 |Validation acc: 0.6078559027777778, Validation loss: 0.12714173103449866\n",
      "Epoch 20: Train acc: 0.6131755185564134, Train loss: 0.6308135285216849 |Validation acc: 0.6089048032407407, Validation loss: 0.12859176931669936\n"
     ]
    }
   ],
   "source": [
    "model4 = AutoEncoder()\n",
    "train(model4, train_data, valid_data, batch_size=32, num_epochs=20, learning_rate=0.01)"
   ]
  },
  {
   "attachments": {},
   "cell_type": "markdown",
   "metadata": {
    "colab_type": "text",
    "id": "ymCsZH291prI"
   },
   "source": [
    "## Part 4. Testing [12 pt]\n",
    "\n",
    "### Part (a) [2 pt]\n",
    "\n",
    "Compute and report the test accuracy."
   ]
  },
  {
   "cell_type": "code",
   "execution_count": 50,
   "metadata": {
    "colab": {},
    "colab_type": "code",
    "collapsed": true,
    "id": "0OkSbup91prJ",
    "jupyter": {
     "outputs_hidden": true
    }
   },
   "outputs": [
    {
     "name": "stdout",
     "output_type": "stream",
     "text": [
      "Final Test Accuracy: 0.6575882523148148\n"
     ]
    }
   ],
   "source": [
    "best_model = AutoEncoder()\n",
    "best_model_path = \"./models/model_AutoEncoder_bs64_lr0.01_epoch19\"\n",
    "best_model.load_state_dict(torch.load(best_model_path))\n",
    "\n",
    "test_loader = torch.utils.data.DataLoader(test_data, batch_size=64, shuffle=True)\n",
    "print(\"Final Test Accuracy: {}\".format(get_accuracy(best_model, test_loader)))"
   ]
  },
  {
   "attachments": {},
   "cell_type": "markdown",
   "metadata": {
    "colab_type": "text",
    "id": "UEe9yt6L1prM"
   },
   "source": [
    "### Part (b) [4 pt]\n",
    "\n",
    "Based on the test accuracy alone, it is difficult to assess whether our model\n",
    "is actually performing well. We don't know whether a high accuracy is due to\n",
    "the simplicity of the problem, or if a poor accuracy is a result of the inherent\n",
    "difficulty of the problem.\n",
    "\n",
    "It is therefore very important to be able to compare our model to at least one\n",
    "alternative. In particular, we consider a simple **baseline**\n",
    "model that is not very computationally expensive. Our neural network\n",
    "should at least outperform this baseline model. If our network is not much\n",
    "better than the baseline, then it is not doing well.\n",
    "\n",
    "For our data imputation problem, consider the following baseline model:\n",
    "to predict a missing feature, the baseline model will look at the **most common value** of the feature in the training set. \n",
    "\n",
    "For example, if the feature \"marriage\" is missing, then this model's prediction will be the most common value for \"marriage\" in the training set, which happens to be \"Married-civ-spouse\".\n",
    "\n",
    "What would be the test accuracy of this baseline model?\n"
   ]
  },
  {
   "cell_type": "code",
   "execution_count": 57,
   "metadata": {
    "colab": {},
    "colab_type": "code",
    "collapsed": true,
    "id": "p45VHp011prN",
    "jupyter": {
     "outputs_hidden": true
    }
   },
   "outputs": [],
   "source": [
    "most_common = {}\n",
    "for col in df_not_missing:\n",
    "    most_common[col] = df_not_missing[col].value_counts().idxmax()"
   ]
  },
  {
   "cell_type": "code",
   "execution_count": 58,
   "metadata": {},
   "outputs": [
    {
     "data": {
      "text/plain": [
       "{'age': 0.2602739726027397,\n",
       " 'yredu': 0.5333333333333333,\n",
       " 'capgain': 0.0,\n",
       " 'caploss': 0.0,\n",
       " 'workhr': 0.3979591836734694,\n",
       " 'work': ' Private',\n",
       " 'marriage': ' Married-civ-spouse',\n",
       " 'occupation': ' Prof-specialty',\n",
       " 'edu': ' HS-grad',\n",
       " 'relationship': ' Husband',\n",
       " 'sex': ' Male'}"
      ]
     },
     "execution_count": 58,
     "metadata": {},
     "output_type": "execute_result"
    }
   ],
   "source": [
    "most_common"
   ]
  },
  {
   "cell_type": "code",
   "execution_count": 61,
   "metadata": {},
   "outputs": [
    {
     "name": "stdout",
     "output_type": "stream",
     "text": [
      "Baseline Accuracy: 46.679%\n"
     ]
    }
   ],
   "source": [
    "baseline_acc = sum(df_not_missing[\"marriage\"] == most_common[\"marriage\"]) / len(df_not_missing)\n",
    "print(f\"Baseline Accuracy: {100*baseline_acc:.3f}%\")"
   ]
  },
  {
   "attachments": {},
   "cell_type": "markdown",
   "metadata": {
    "colab_type": "text",
    "id": "QlHu0wxh1prP"
   },
   "source": [
    "### Part (c) [1 pt]\n",
    "\n",
    "How does your test accuracy from part (a) compared to your basline test accuracy in part (b)?"
   ]
  },
  {
   "attachments": {},
   "cell_type": "markdown",
   "metadata": {},
   "source": [
    "**Answer**\n",
    "\n",
    "The test accuracy of the autoencoder is 65.75%, which is much higher than the baseline accuracy of 45.679%"
   ]
  },
  {
   "attachments": {},
   "cell_type": "markdown",
   "metadata": {
    "colab_type": "text",
    "id": "DfQPgu1Q1prS"
   },
   "source": [
    "### Part (d) [1 pt]\n",
    "\n",
    "Look at the first item in your test data. \n",
    "Do you think it is reasonable for a human\n",
    "to be able to guess this person's education level\n",
    "based on their other features? Explain."
   ]
  },
  {
   "cell_type": "code",
   "execution_count": 63,
   "metadata": {
    "colab": {},
    "colab_type": "code",
    "collapsed": true,
    "id": "3qbQ1vvT1prT",
    "jupyter": {
     "outputs_hidden": true
    }
   },
   "outputs": [
    {
     "data": {
      "text/plain": [
       "{'work': 'Local-gov',\n",
       " 'marriage': 'Never-married',\n",
       " 'occupation': 'Prof-specialty',\n",
       " 'edu': 'Bachelors',\n",
       " 'relationship': 'Own-child',\n",
       " 'sex': 'Female'}"
      ]
     },
     "execution_count": 63,
     "metadata": {},
     "output_type": "execute_result"
    }
   ],
   "source": [
    "get_features(test_data[0])"
   ]
  },
  {
   "attachments": {},
   "cell_type": "markdown",
   "metadata": {},
   "source": [
    "**Answer**\n",
    "\n",
    "Personally won't had gotten the education level, since I would assume that this person would have a masters or a PhD to be a professor. So by extension I'd assume it would be hard for others to guess as well."
   ]
  },
  {
   "attachments": {},
   "cell_type": "markdown",
   "metadata": {
    "colab_type": "text",
    "id": "p_d5uuAY1prZ"
   },
   "source": [
    "### Part (e) [2 pt]\n",
    "\n",
    "What is your model's prediction of this person's education\n",
    "level, given their other features?\n"
   ]
  },
  {
   "cell_type": "code",
   "execution_count": 64,
   "metadata": {
    "colab": {},
    "colab_type": "code",
    "collapsed": true,
    "id": "kBY5gKXR1pra",
    "jupyter": {
     "outputs_hidden": true
    }
   },
   "outputs": [
    {
     "data": {
      "text/plain": [
       "'Bachelors'"
      ]
     },
     "execution_count": 64,
     "metadata": {},
     "output_type": "execute_result"
    }
   ],
   "source": [
    "test_sample = zero_out_feature(test_data[0:1], \"edu\")[0]\n",
    "prediction = best_model(torch.from_numpy(test_sample))\n",
    "get_feature(prediction.detach().numpy(), \"edu\")"
   ]
  },
  {
   "attachments": {},
   "cell_type": "markdown",
   "metadata": {
    "colab_type": "text",
    "id": "fdLNA0ce1prd"
   },
   "source": [
    "### Part (f) [2 pt]\n",
    "\n",
    "What is the baseline model's prediction\n",
    "of this person's education level?"
   ]
  },
  {
   "cell_type": "code",
   "execution_count": 65,
   "metadata": {
    "colab": {},
    "colab_type": "code",
    "collapsed": true,
    "id": "TXgoM9qk1prd",
    "jupyter": {
     "outputs_hidden": true
    }
   },
   "outputs": [
    {
     "data": {
      "text/plain": [
       "' HS-grad'"
      ]
     },
     "execution_count": 65,
     "metadata": {},
     "output_type": "execute_result"
    }
   ],
   "source": [
    "most_common[\"edu\"]"
   ]
  }
 ],
 "metadata": {
  "colab": {
   "collapsed_sections": [
    "HwjDg1uM1pqe",
    "OEJ0Ci3l1pqh",
    "1_5ZZR_J1pqy",
    "WKk01pwx1pq_",
    "SxCTlXoV1prB",
    "h9xTwIf51prF",
    "UEe9yt6L1prM",
    "QlHu0wxh1prP",
    "DfQPgu1Q1prS",
    "p_d5uuAY1prZ",
    "fdLNA0ce1prd"
   ],
   "name": "Lab 4 - Data Imputation",
   "provenance": []
  },
  "kernelspec": {
   "display_name": "Python 3 (ipykernel)",
   "language": "python",
   "name": "python3"
  },
  "language_info": {
   "codemirror_mode": {
    "name": "ipython",
    "version": 3
   },
   "file_extension": ".py",
   "mimetype": "text/x-python",
   "name": "python",
   "nbconvert_exporter": "python",
   "pygments_lexer": "ipython3",
   "version": "3.10.9"
  }
 },
 "nbformat": 4,
 "nbformat_minor": 4
}
